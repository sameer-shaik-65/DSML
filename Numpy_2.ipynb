{
  "nbformat": 4,
  "nbformat_minor": 0,
  "metadata": {
    "colab": {
      "name": "Numpy -2",
      "provenance": []
    },
    "kernelspec": {
      "name": "python3",
      "display_name": "Python 3"
    },
    "language_info": {
      "name": "python"
    }
  },
  "cells": [
    {
      "cell_type": "code",
      "source": [
        "print(\"Welcome to Numpy - 2\")"
      ],
      "metadata": {
        "colab": {
          "base_uri": "https://localhost:8080/"
        },
        "id": "-ctf27QsKPRT",
        "outputId": "1ffc4789-ae76-4906-9f98-9e190a6348d7"
      },
      "execution_count": null,
      "outputs": [
        {
          "output_type": "stream",
          "name": "stdout",
          "text": [
            "Welcome to Numpy - 2\n"
          ]
        }
      ]
    },
    {
      "cell_type": "code",
      "source": [
        "import numpy as np\n",
        "m1=np.arange(1,13).reshape((3,4))\n",
        "m1"
      ],
      "metadata": {
        "colab": {
          "base_uri": "https://localhost:8080/"
        },
        "id": "usCAQQMGKy97",
        "outputId": "2dea4297-728b-4c28-d815-01fd0f7c253f"
      },
      "execution_count": null,
      "outputs": [
        {
          "output_type": "execute_result",
          "data": {
            "text/plain": [
              "array([[ 1,  2,  3,  4],\n",
              "       [ 5,  6,  7,  8],\n",
              "       [ 9, 10, 11, 12]])"
            ]
          },
          "metadata": {},
          "execution_count": 10
        }
      ]
    },
    {
      "cell_type": "code",
      "source": [
        "m1+2"
      ],
      "metadata": {
        "colab": {
          "base_uri": "https://localhost:8080/"
        },
        "id": "HgHQ-8skKzAU",
        "outputId": "035415d8-8a74-48c9-d68a-d36ab60ec72f"
      },
      "execution_count": null,
      "outputs": [
        {
          "output_type": "execute_result",
          "data": {
            "text/plain": [
              "array([[ 3,  4,  5,  6],\n",
              "       [ 7,  8,  9, 10],\n",
              "       [11, 12, 13, 14]])"
            ]
          },
          "metadata": {},
          "execution_count": 11
        }
      ]
    },
    {
      "cell_type": "code",
      "source": [
        "m1<6"
      ],
      "metadata": {
        "colab": {
          "base_uri": "https://localhost:8080/"
        },
        "id": "v3AII1tFKzCl",
        "outputId": "742a33b8-77ad-4b67-9b9f-52c772e26f6d"
      },
      "execution_count": null,
      "outputs": [
        {
          "output_type": "execute_result",
          "data": {
            "text/plain": [
              "array([[ True,  True,  True,  True],\n",
              "       [ True, False, False, False],\n",
              "       [False, False, False, False]])"
            ]
          },
          "metadata": {},
          "execution_count": 12
        }
      ]
    },
    {
      "cell_type": "code",
      "source": [
        "m1<6"
      ],
      "metadata": {
        "colab": {
          "base_uri": "https://localhost:8080/"
        },
        "id": "0MnRFCaDKzFA",
        "outputId": "55103f95-b06b-4043-bbfd-591e30d0d29b"
      },
      "execution_count": null,
      "outputs": [
        {
          "output_type": "execute_result",
          "data": {
            "text/plain": [
              "array([[ True,  True,  True,  True],\n",
              "       [ True, False, False, False],\n",
              "       [False, False, False, False]])"
            ]
          },
          "metadata": {},
          "execution_count": 13
        }
      ]
    },
    {
      "cell_type": "code",
      "source": [
        "mask= m1<6\n",
        "m1[mask]"
      ],
      "metadata": {
        "colab": {
          "base_uri": "https://localhost:8080/"
        },
        "id": "EDkI09cLKzHS",
        "outputId": "32554dfe-d5fe-49ee-b8f4-e5ae7695257d"
      },
      "execution_count": null,
      "outputs": [
        {
          "output_type": "execute_result",
          "data": {
            "text/plain": [
              "array([1, 2, 3, 4, 5])"
            ]
          },
          "metadata": {},
          "execution_count": 14
        }
      ]
    },
    {
      "cell_type": "code",
      "source": [
        "mask2= (m1>6)\n",
        "mask2"
      ],
      "metadata": {
        "colab": {
          "base_uri": "https://localhost:8080/"
        },
        "id": "IJmgBBeyKzJF",
        "outputId": "bdec7ab8-67db-4160-f500-6dd5d8d14ea7"
      },
      "execution_count": null,
      "outputs": [
        {
          "output_type": "execute_result",
          "data": {
            "text/plain": [
              "array([[False, False, False, False],\n",
              "       [False, False,  True,  True],\n",
              "       [ True,  True,  True,  True]])"
            ]
          },
          "metadata": {},
          "execution_count": 92
        }
      ]
    },
    {
      "cell_type": "code",
      "source": [
        "# Fancy Indexing\n",
        "# gives me values based on the condition in the mask\n",
        "m1[mask2]"
      ],
      "metadata": {
        "colab": {
          "base_uri": "https://localhost:8080/"
        },
        "id": "gd17aUppKzLg",
        "outputId": "e0700164-bbff-491d-a6ae-99442afe3fdc"
      },
      "execution_count": null,
      "outputs": [
        {
          "output_type": "execute_result",
          "data": {
            "text/plain": [
              "array([ 7,  8,  9, 10, 11, 12])"
            ]
          },
          "metadata": {},
          "execution_count": 93
        }
      ]
    },
    {
      "cell_type": "code",
      "source": [
        "\n",
        "m1"
      ],
      "metadata": {
        "colab": {
          "base_uri": "https://localhost:8080/"
        },
        "id": "8Wv3Kj3pKzNq",
        "outputId": "65588527-cadb-4326-9d7a-0b779e44396d"
      },
      "execution_count": null,
      "outputs": [
        {
          "output_type": "execute_result",
          "data": {
            "text/plain": [
              "array([[ 1,  2,  3,  4],\n",
              "       [ 5,  6,  7,  8],\n",
              "       [ 9, 10, 11, 12]])"
            ]
          },
          "metadata": {},
          "execution_count": 94
        }
      ]
    },
    {
      "cell_type": "code",
      "source": [
        "# multiple conditions can be passed\n",
        "# \"|\"\" is used for \"OR\" and \"&\" is used as \"AND\"\n",
        "\n",
        "mask3= ((m1<3) | (m1>6))\n",
        "m1[mask3]"
      ],
      "metadata": {
        "colab": {
          "base_uri": "https://localhost:8080/"
        },
        "id": "1lAv-iHiKzP7",
        "outputId": "0978a44d-bc36-4cb9-e83c-981c30345a46"
      },
      "execution_count": null,
      "outputs": [
        {
          "output_type": "execute_result",
          "data": {
            "text/plain": [
              "array([ 1,  2,  7,  8,  9, 10, 11, 12])"
            ]
          },
          "metadata": {},
          "execution_count": 95
        }
      ]
    },
    {
      "cell_type": "code",
      "source": [
        "mask3= ((m1<3) & (m1>6))\n",
        "m1[mask3]"
      ],
      "metadata": {
        "colab": {
          "base_uri": "https://localhost:8080/"
        },
        "id": "Zkrreq0bKzSW",
        "outputId": "c7c44600-072b-4b3e-f189-2bb3854e1030"
      },
      "execution_count": null,
      "outputs": [
        {
          "output_type": "execute_result",
          "data": {
            "text/plain": [
              "array([], dtype=int64)"
            ]
          },
          "metadata": {},
          "execution_count": 96
        }
      ]
    },
    {
      "cell_type": "code",
      "source": [
        "# Element wise addition\n",
        "m1=m1+2"
      ],
      "metadata": {
        "id": "fGnO7ADUKzUz"
      },
      "execution_count": null,
      "outputs": []
    },
    {
      "cell_type": "code",
      "source": [
        "m1"
      ],
      "metadata": {
        "colab": {
          "base_uri": "https://localhost:8080/"
        },
        "id": "zQ7F8NgDKzXC",
        "outputId": "121684bd-ddab-4dd0-f0eb-6d5401d8262c"
      },
      "execution_count": null,
      "outputs": [
        {
          "output_type": "execute_result",
          "data": {
            "text/plain": [
              "array([[ 3,  4,  5,  6],\n",
              "       [ 7,  8,  9, 10],\n",
              "       [11, 12, 13, 14]])"
            ]
          },
          "metadata": {},
          "execution_count": 98
        }
      ]
    },
    {
      "cell_type": "code",
      "source": [
        "m2=np.arange(1,13).reshape((3,4))"
      ],
      "metadata": {
        "id": "27cFnK98KzZU"
      },
      "execution_count": null,
      "outputs": []
    },
    {
      "cell_type": "code",
      "source": [
        "\n",
        "m2[((m2<3) | (m2>6))]"
      ],
      "metadata": {
        "colab": {
          "base_uri": "https://localhost:8080/"
        },
        "id": "n6pOTw6wKzbo",
        "outputId": "3b3aeaef-cbdd-4bd2-b063-8940f267921a"
      },
      "execution_count": null,
      "outputs": [
        {
          "output_type": "execute_result",
          "data": {
            "text/plain": [
              "array([ 1,  2,  7,  8,  9, 10, 11, 12])"
            ]
          },
          "metadata": {},
          "execution_count": 100
        }
      ]
    },
    {
      "cell_type": "code",
      "source": [
        "a=np.arange(1,13).reshape((3,4))\n",
        "b=np.arange(1,13).reshape((3,4))\n",
        "print(a)\n",
        "print(b)\n",
        "\n",
        "# checking whether all elements of a are equal to corresponding elements of b\n",
        "print(a==b)"
      ],
      "metadata": {
        "colab": {
          "base_uri": "https://localhost:8080/"
        },
        "id": "ezjEpRnRRiiN",
        "outputId": "c55e5f98-d691-41b2-ab59-fbe38ba88da9"
      },
      "execution_count": null,
      "outputs": [
        {
          "output_type": "stream",
          "name": "stdout",
          "text": [
            "[[ 1  2  3  4]\n",
            " [ 5  6  7  8]\n",
            " [ 9 10 11 12]]\n",
            "[[ 1  2  3  4]\n",
            " [ 5  6  7  8]\n",
            " [ 9 10 11 12]]\n",
            "[[ True  True  True  True]\n",
            " [ True  True  True  True]\n",
            " [ True  True  True  True]]\n"
          ]
        }
      ]
    },
    {
      "cell_type": "code",
      "source": [
        "a=np.arange(1,13).reshape((3,4))\n",
        "b=np.arange(1,13).reshape((2,6))\n",
        "# print(a)\n",
        "# print(b)\n",
        "\n",
        "a==b"
      ],
      "metadata": {
        "colab": {
          "base_uri": "https://localhost:8080/"
        },
        "id": "IkNUtK50SMfr",
        "outputId": "c64fac9e-cc4d-4a71-ac43-5dbfaa4b2166"
      },
      "execution_count": null,
      "outputs": [
        {
          "output_type": "stream",
          "name": "stderr",
          "text": [
            "/usr/local/lib/python3.7/dist-packages/ipykernel_launcher.py:6: DeprecationWarning: elementwise comparison failed; this will raise an error in the future.\n",
            "  \n"
          ]
        },
        {
          "output_type": "execute_result",
          "data": {
            "text/plain": [
              "False"
            ]
          },
          "metadata": {},
          "execution_count": 102
        }
      ]
    },
    {
      "cell_type": "code",
      "source": [
        "a = np.array([0,2,3])\n",
        "b = np.array([1,3,5])\n",
        "a>=b\n",
        "# 2 arrays can be compared"
      ],
      "metadata": {
        "colab": {
          "base_uri": "https://localhost:8080/"
        },
        "id": "uT7s8bi0Sc2K",
        "outputId": "1988b13b-ef7f-442f-85dc-e95ea63afe66"
      },
      "execution_count": null,
      "outputs": [
        {
          "output_type": "execute_result",
          "data": {
            "text/plain": [
              "array([False, False, False])"
            ]
          },
          "metadata": {},
          "execution_count": 103
        }
      ]
    },
    {
      "cell_type": "code",
      "source": [
        "m3=np.arange(1,13).reshape((3,4))\n",
        "m3"
      ],
      "metadata": {
        "colab": {
          "base_uri": "https://localhost:8080/"
        },
        "id": "LxagigkaTIxM",
        "outputId": "0a9091d3-93e6-46ff-b66f-d9bc56fee251"
      },
      "execution_count": null,
      "outputs": [
        {
          "output_type": "execute_result",
          "data": {
            "text/plain": [
              "array([[ 1,  2,  3,  4],\n",
              "       [ 5,  6,  7,  8],\n",
              "       [ 9, 10, 11, 12]])"
            ]
          },
          "metadata": {},
          "execution_count": 104
        }
      ]
    },
    {
      "cell_type": "code",
      "source": [
        "# replacing all the values less than 6 with 99 using masking\n",
        "m3[m3<6]=99"
      ],
      "metadata": {
        "id": "2w3j_5wpTIzs"
      },
      "execution_count": null,
      "outputs": []
    },
    {
      "cell_type": "code",
      "source": [
        "m3"
      ],
      "metadata": {
        "colab": {
          "base_uri": "https://localhost:8080/"
        },
        "id": "84On_g5-TI2R",
        "outputId": "5039b9c5-f337-4e67-b166-8d42dcea4db7"
      },
      "execution_count": null,
      "outputs": [
        {
          "output_type": "execute_result",
          "data": {
            "text/plain": [
              "array([[99, 99, 99, 99],\n",
              "       [99,  6,  7,  8],\n",
              "       [ 9, 10, 11, 12]])"
            ]
          },
          "metadata": {},
          "execution_count": 106
        }
      ]
    },
    {
      "cell_type": "code",
      "source": [
        "m4 =np.array([0,1,2,3,4,5])\n"
      ],
      "metadata": {
        "id": "768S8xFUTI4u"
      },
      "execution_count": null,
      "outputs": []
    },
    {
      "cell_type": "code",
      "source": [
        "mask=(m4%2==0)\n",
        "print(mask)\n"
      ],
      "metadata": {
        "colab": {
          "base_uri": "https://localhost:8080/"
        },
        "id": "mpMepP-tTI7Z",
        "outputId": "ed06235f-0572-44ca-e925-05ec46147445"
      },
      "execution_count": null,
      "outputs": [
        {
          "output_type": "stream",
          "name": "stdout",
          "text": [
            "[ True False  True False  True False]\n"
          ]
        }
      ]
    },
    {
      "cell_type": "code",
      "source": [
        "m4[mask]=-1\n",
        "print(m4)"
      ],
      "metadata": {
        "colab": {
          "base_uri": "https://localhost:8080/"
        },
        "id": "o-neD-K_Uash",
        "outputId": "b525b28a-9fb0-4e7c-cd5c-4c7daf63ed2f"
      },
      "execution_count": null,
      "outputs": [
        {
          "output_type": "stream",
          "name": "stdout",
          "text": [
            "[-1  1 -1  3 -1  5]\n"
          ]
        }
      ]
    },
    {
      "cell_type": "code",
      "source": [
        "# aggregate/universal functions"
      ],
      "metadata": {
        "id": "akxSVVb6UfKS"
      },
      "execution_count": null,
      "outputs": []
    },
    {
      "cell_type": "code",
      "source": [
        "a = np.array([0,2,3])\n",
        "b = np.array([1,3,5])\n",
        "\n",
        "a+b"
      ],
      "metadata": {
        "colab": {
          "base_uri": "https://localhost:8080/"
        },
        "id": "LaLMYf1JU7DX",
        "outputId": "4d8c56ca-b29e-41de-fdba-ad1e76b3510e"
      },
      "execution_count": null,
      "outputs": [
        {
          "output_type": "execute_result",
          "data": {
            "text/plain": [
              "array([1, 5, 8])"
            ]
          },
          "metadata": {},
          "execution_count": 111
        }
      ]
    },
    {
      "cell_type": "code",
      "source": [
        "# element wise sum of 3 arrays \n",
        "np.add(a,b)"
      ],
      "metadata": {
        "colab": {
          "base_uri": "https://localhost:8080/"
        },
        "id": "HmIWyiD9VRb2",
        "outputId": "d3088849-b77b-402d-c4f3-46c6d1242d2b"
      },
      "execution_count": null,
      "outputs": [
        {
          "output_type": "execute_result",
          "data": {
            "text/plain": [
              "array([1, 5, 8])"
            ]
          },
          "metadata": {},
          "execution_count": 112
        }
      ]
    },
    {
      "cell_type": "code",
      "source": [
        "np.divide(a,b)"
      ],
      "metadata": {
        "colab": {
          "base_uri": "https://localhost:8080/"
        },
        "id": "wAOR3HmKVbZ_",
        "outputId": "37507b70-17fd-445e-af43-2e2b73aa8330"
      },
      "execution_count": null,
      "outputs": [
        {
          "output_type": "execute_result",
          "data": {
            "text/plain": [
              "array([0.        , 0.66666667, 0.6       ])"
            ]
          },
          "metadata": {},
          "execution_count": 113
        }
      ]
    },
    {
      "cell_type": "code",
      "source": [
        "n4=np.arange(1,13).reshape((3,4))\n",
        "n5=np.arange(1,13).reshape((3,4))\n",
        "print(n4)\n",
        "print(n5)\n",
        "np.add(n4,n5)"
      ],
      "metadata": {
        "colab": {
          "base_uri": "https://localhost:8080/"
        },
        "id": "TK3NYF6GVfeP",
        "outputId": "acbd5bb3-6bbf-45ea-e6ba-d6baf9e76891"
      },
      "execution_count": null,
      "outputs": [
        {
          "output_type": "stream",
          "name": "stdout",
          "text": [
            "[[ 1  2  3  4]\n",
            " [ 5  6  7  8]\n",
            " [ 9 10 11 12]]\n",
            "[[ 1  2  3  4]\n",
            " [ 5  6  7  8]\n",
            " [ 9 10 11 12]]\n"
          ]
        },
        {
          "output_type": "execute_result",
          "data": {
            "text/plain": [
              "array([[ 2,  4,  6,  8],\n",
              "       [10, 12, 14, 16],\n",
              "       [18, 20, 22, 24]])"
            ]
          },
          "metadata": {},
          "execution_count": 114
        }
      ]
    },
    {
      "cell_type": "code",
      "source": [
        "n6=np.arange(1,13).reshape((3,4))\n",
        "n6"
      ],
      "metadata": {
        "colab": {
          "base_uri": "https://localhost:8080/"
        },
        "id": "lGm552pYWJ0u",
        "outputId": "900685ee-17ec-4847-845c-8ed1323ef12a"
      },
      "execution_count": null,
      "outputs": [
        {
          "output_type": "execute_result",
          "data": {
            "text/plain": [
              "array([[ 1,  2,  3,  4],\n",
              "       [ 5,  6,  7,  8],\n",
              "       [ 9, 10, 11, 12]])"
            ]
          },
          "metadata": {},
          "execution_count": 115
        }
      ]
    },
    {
      "cell_type": "code",
      "source": [
        "# returns sum of all the elements\n",
        "np.sum(n6)"
      ],
      "metadata": {
        "colab": {
          "base_uri": "https://localhost:8080/"
        },
        "id": "4jaYgddVWc6z",
        "outputId": "ebcd1d65-2256-4ff1-955d-d66dfbbe85a7"
      },
      "execution_count": null,
      "outputs": [
        {
          "output_type": "execute_result",
          "data": {
            "text/plain": [
              "78"
            ]
          },
          "metadata": {},
          "execution_count": 116
        }
      ]
    },
    {
      "cell_type": "code",
      "source": [
        "# returns sum across horizontal direction ( row wise summation)\n",
        "np.sum(n6,axis=1)"
      ],
      "metadata": {
        "colab": {
          "base_uri": "https://localhost:8080/"
        },
        "id": "qs_fADQXWc9O",
        "outputId": "5618e400-82b0-4019-f8e1-18e26b252bb3"
      },
      "execution_count": null,
      "outputs": [
        {
          "output_type": "execute_result",
          "data": {
            "text/plain": [
              "array([10, 26, 42])"
            ]
          },
          "metadata": {},
          "execution_count": 117
        }
      ]
    },
    {
      "cell_type": "code",
      "source": [
        "# returns sum across vertical direction ( column wise summation)\n",
        "np.sum(n6,axis=0)"
      ],
      "metadata": {
        "colab": {
          "base_uri": "https://localhost:8080/"
        },
        "id": "topyGKRBWc_p",
        "outputId": "a9259afd-a610-4d56-a310-27fd43be451c"
      },
      "execution_count": null,
      "outputs": [
        {
          "output_type": "execute_result",
          "data": {
            "text/plain": [
              "array([15, 18, 21, 24])"
            ]
          },
          "metadata": {},
          "execution_count": 118
        }
      ]
    },
    {
      "cell_type": "code",
      "source": [
        "# np.sum(n6,axis=0)\n",
        "n6.sum(axis=0)"
      ],
      "metadata": {
        "colab": {
          "base_uri": "https://localhost:8080/"
        },
        "id": "jpfd_oPmWdCI",
        "outputId": "5d92d134-4b77-401e-d486-3811695b83fa"
      },
      "execution_count": null,
      "outputs": [
        {
          "output_type": "execute_result",
          "data": {
            "text/plain": [
              "array([15, 18, 21, 24])"
            ]
          },
          "metadata": {},
          "execution_count": 119
        }
      ]
    },
    {
      "cell_type": "code",
      "source": [
        "np.sum(n6[0])"
      ],
      "metadata": {
        "colab": {
          "base_uri": "https://localhost:8080/"
        },
        "id": "w85nDYxjWdEa",
        "outputId": "a547cf2f-546a-4dba-acf2-f623adef2109"
      },
      "execution_count": null,
      "outputs": [
        {
          "output_type": "execute_result",
          "data": {
            "text/plain": [
              "10"
            ]
          },
          "metadata": {},
          "execution_count": 120
        }
      ]
    },
    {
      "cell_type": "code",
      "source": [
        "n6[:,0].sum()"
      ],
      "metadata": {
        "colab": {
          "base_uri": "https://localhost:8080/"
        },
        "id": "33xjD08BX34B",
        "outputId": "12f6af72-345c-4cb7-bea2-651e6cb469c8"
      },
      "execution_count": null,
      "outputs": [
        {
          "output_type": "execute_result",
          "data": {
            "text/plain": [
              "15"
            ]
          },
          "metadata": {},
          "execution_count": 121
        }
      ]
    },
    {
      "cell_type": "code",
      "source": [
        "np.sum(n6[:,0])"
      ],
      "metadata": {
        "colab": {
          "base_uri": "https://localhost:8080/"
        },
        "id": "rngkPekaYCgP",
        "outputId": "c530927b-8687-4824-dbae-d30204676d3b"
      },
      "execution_count": null,
      "outputs": [
        {
          "output_type": "execute_result",
          "data": {
            "text/plain": [
              "15"
            ]
          },
          "metadata": {},
          "execution_count": 122
        }
      ]
    },
    {
      "cell_type": "code",
      "source": [
        "np.sum(n6[0])"
      ],
      "metadata": {
        "colab": {
          "base_uri": "https://localhost:8080/"
        },
        "id": "lNOuABBkYGff",
        "outputId": "67a617ef-1f00-4ed0-9933-1bdc5bb298f3"
      },
      "execution_count": null,
      "outputs": [
        {
          "output_type": "execute_result",
          "data": {
            "text/plain": [
              "10"
            ]
          },
          "metadata": {},
          "execution_count": 123
        }
      ]
    },
    {
      "cell_type": "code",
      "source": [
        "n6"
      ],
      "metadata": {
        "colab": {
          "base_uri": "https://localhost:8080/"
        },
        "id": "9YrZOs1LYNVY",
        "outputId": "014838f3-ba56-4e45-f2c5-13891f8a6691"
      },
      "execution_count": null,
      "outputs": [
        {
          "output_type": "execute_result",
          "data": {
            "text/plain": [
              "array([[ 1,  2,  3,  4],\n",
              "       [ 5,  6,  7,  8],\n",
              "       [ 9, 10, 11, 12]])"
            ]
          },
          "metadata": {},
          "execution_count": 124
        }
      ]
    },
    {
      "cell_type": "code",
      "source": [
        "n6.sum(axis=0)"
      ],
      "metadata": {
        "colab": {
          "base_uri": "https://localhost:8080/"
        },
        "id": "5_t_hZdOYRum",
        "outputId": "e4a488bb-ad3e-4679-eb6f-aebff573b244"
      },
      "execution_count": null,
      "outputs": [
        {
          "output_type": "execute_result",
          "data": {
            "text/plain": [
              "array([15, 18, 21, 24])"
            ]
          },
          "metadata": {},
          "execution_count": 125
        }
      ]
    },
    {
      "cell_type": "code",
      "source": [
        "n6.sum(axis=1)"
      ],
      "metadata": {
        "colab": {
          "base_uri": "https://localhost:8080/"
        },
        "id": "tsCe0qbnYUfm",
        "outputId": "bd05d824-88bf-42d5-cec3-f80bbf9c3e13"
      },
      "execution_count": null,
      "outputs": [
        {
          "output_type": "execute_result",
          "data": {
            "text/plain": [
              "array([10, 26, 42])"
            ]
          },
          "metadata": {},
          "execution_count": 126
        }
      ]
    },
    {
      "cell_type": "code",
      "source": [
        "n7=np.arange(1,13).reshape((3,4))\n",
        "n7"
      ],
      "metadata": {
        "colab": {
          "base_uri": "https://localhost:8080/"
        },
        "id": "fjONCn6RYVuV",
        "outputId": "6d0cfbd2-3d8b-4b24-bd49-d983e4ead0ca"
      },
      "execution_count": null,
      "outputs": [
        {
          "output_type": "execute_result",
          "data": {
            "text/plain": [
              "array([[ 1,  2,  3,  4],\n",
              "       [ 5,  6,  7,  8],\n",
              "       [ 9, 10, 11, 12]])"
            ]
          },
          "metadata": {},
          "execution_count": 127
        }
      ]
    },
    {
      "cell_type": "code",
      "source": [
        "np.mean(n7,axis=1)"
      ],
      "metadata": {
        "colab": {
          "base_uri": "https://localhost:8080/"
        },
        "id": "QuljLh81Yoqb",
        "outputId": "34fb8105-77b4-4822-df2f-1ac3a3ed2b15"
      },
      "execution_count": null,
      "outputs": [
        {
          "output_type": "execute_result",
          "data": {
            "text/plain": [
              "array([ 2.5,  6.5, 10.5])"
            ]
          },
          "metadata": {},
          "execution_count": 128
        }
      ]
    },
    {
      "cell_type": "code",
      "source": [
        "np.mean(n7,axis=0)"
      ],
      "metadata": {
        "colab": {
          "base_uri": "https://localhost:8080/"
        },
        "id": "BVljDemTYzBA",
        "outputId": "c282cb85-0e9c-40d3-e733-6e28a27081e8"
      },
      "execution_count": null,
      "outputs": [
        {
          "output_type": "execute_result",
          "data": {
            "text/plain": [
              "array([5., 6., 7., 8.])"
            ]
          },
          "metadata": {},
          "execution_count": 129
        }
      ]
    },
    {
      "cell_type": "code",
      "source": [
        "m7=np.arange(1,10).reshape((3,3))\n",
        "m7"
      ],
      "metadata": {
        "colab": {
          "base_uri": "https://localhost:8080/"
        },
        "id": "38jU1ejAY2wZ",
        "outputId": "7652d050-cecb-4da9-ab7a-701d9a27a964"
      },
      "execution_count": null,
      "outputs": [
        {
          "output_type": "execute_result",
          "data": {
            "text/plain": [
              "array([[1, 2, 3],\n",
              "       [4, 5, 6],\n",
              "       [7, 8, 9]])"
            ]
          },
          "metadata": {},
          "execution_count": 130
        }
      ]
    },
    {
      "cell_type": "code",
      "source": [
        "np.max(m7,axis=0)"
      ],
      "metadata": {
        "colab": {
          "base_uri": "https://localhost:8080/"
        },
        "id": "9axOvne7ZdK-",
        "outputId": "80f95851-8d81-4310-8427-d94e01ef8708"
      },
      "execution_count": null,
      "outputs": [
        {
          "output_type": "execute_result",
          "data": {
            "text/plain": [
              "array([7, 8, 9])"
            ]
          },
          "metadata": {},
          "execution_count": 131
        }
      ]
    },
    {
      "cell_type": "code",
      "source": [
        "np.max(m7,axis=1)"
      ],
      "metadata": {
        "colab": {
          "base_uri": "https://localhost:8080/"
        },
        "id": "tBpF-ybbZn4a",
        "outputId": "009a4edc-ab8f-4f2f-c570-c312a2e48d29"
      },
      "execution_count": null,
      "outputs": [
        {
          "output_type": "execute_result",
          "data": {
            "text/plain": [
              "array([3, 6, 9])"
            ]
          },
          "metadata": {},
          "execution_count": 132
        }
      ]
    },
    {
      "cell_type": "code",
      "source": [
        "np.min(m7,axis=0)"
      ],
      "metadata": {
        "colab": {
          "base_uri": "https://localhost:8080/"
        },
        "id": "UbrFClW9Zvrx",
        "outputId": "11d1502e-495c-4fcd-f66c-83abf63999ac"
      },
      "execution_count": null,
      "outputs": [
        {
          "output_type": "execute_result",
          "data": {
            "text/plain": [
              "array([1, 2, 3])"
            ]
          },
          "metadata": {},
          "execution_count": 133
        }
      ]
    },
    {
      "cell_type": "code",
      "source": [
        "np.min(m7,axis=1)"
      ],
      "metadata": {
        "colab": {
          "base_uri": "https://localhost:8080/"
        },
        "id": "PRvKjtGSZ1x0",
        "outputId": "4b7cc009-06d3-4760-979a-2f206ba60373"
      },
      "execution_count": null,
      "outputs": [
        {
          "output_type": "execute_result",
          "data": {
            "text/plain": [
              "array([1, 4, 7])"
            ]
          },
          "metadata": {},
          "execution_count": 134
        }
      ]
    },
    {
      "cell_type": "code",
      "source": [
        "np.max(m7)"
      ],
      "metadata": {
        "colab": {
          "base_uri": "https://localhost:8080/"
        },
        "id": "rC0xFdrjZ7Np",
        "outputId": "fb285786-3d43-4e8f-d1c8-319bce90c5be"
      },
      "execution_count": null,
      "outputs": [
        {
          "output_type": "execute_result",
          "data": {
            "text/plain": [
              "9"
            ]
          },
          "metadata": {},
          "execution_count": 135
        }
      ]
    },
    {
      "cell_type": "code",
      "source": [
        "# Usage of np.any function\n",
        "# returns True for atleast one non zero value\n",
        "m8=np.array([0,0,1])\n",
        "np.any(m8)"
      ],
      "metadata": {
        "colab": {
          "base_uri": "https://localhost:8080/"
        },
        "id": "Pi0gQp0GaEIq",
        "outputId": "bdf5a742-efae-47f8-d3ba-a58f61eed514"
      },
      "execution_count": null,
      "outputs": [
        {
          "output_type": "execute_result",
          "data": {
            "text/plain": [
              "True"
            ]
          },
          "metadata": {},
          "execution_count": 136
        }
      ]
    },
    {
      "cell_type": "code",
      "source": [
        "m8=np.array([0,0,0])\n",
        "np.any(m8)"
      ],
      "metadata": {
        "colab": {
          "base_uri": "https://localhost:8080/"
        },
        "id": "6Y_-1uQ7aa4P",
        "outputId": "0fe1cafe-5c91-4f7b-c485-80c1a743fcd1"
      },
      "execution_count": null,
      "outputs": [
        {
          "output_type": "execute_result",
          "data": {
            "text/plain": [
              "False"
            ]
          },
          "metadata": {},
          "execution_count": 137
        }
      ]
    },
    {
      "cell_type": "code",
      "source": [
        "m8=np.array([True,False,False])\n",
        "np.any(m8)"
      ],
      "metadata": {
        "colab": {
          "base_uri": "https://localhost:8080/"
        },
        "id": "V4IrMmNgaiIn",
        "outputId": "95f137eb-561b-43e2-d73c-3792a48272f2"
      },
      "execution_count": null,
      "outputs": [
        {
          "output_type": "execute_result",
          "data": {
            "text/plain": [
              "True"
            ]
          },
          "metadata": {},
          "execution_count": 138
        }
      ]
    },
    {
      "cell_type": "code",
      "source": [
        "a=np.array([1,2,3,4])\n",
        "b=np.array([4,3,2,1])\n"
      ],
      "metadata": {
        "id": "YbrTRFh7a1gu"
      },
      "execution_count": null,
      "outputs": []
    },
    {
      "cell_type": "code",
      "source": [
        "a<b"
      ],
      "metadata": {
        "colab": {
          "base_uri": "https://localhost:8080/"
        },
        "id": "jxkQsgZ3bF3O",
        "outputId": "346ff559-86cf-44d2-d2b4-6c36424ce485"
      },
      "execution_count": null,
      "outputs": [
        {
          "output_type": "execute_result",
          "data": {
            "text/plain": [
              "array([ True,  True, False, False])"
            ]
          },
          "metadata": {},
          "execution_count": 140
        }
      ]
    },
    {
      "cell_type": "code",
      "source": [
        "np.any(a<b)"
      ],
      "metadata": {
        "colab": {
          "base_uri": "https://localhost:8080/"
        },
        "id": "KsPh9CzXbKLF",
        "outputId": "f4adb528-8003-4c71-8a16-d8307b86c6e5"
      },
      "execution_count": null,
      "outputs": [
        {
          "output_type": "execute_result",
          "data": {
            "text/plain": [
              "True"
            ]
          },
          "metadata": {},
          "execution_count": 141
        }
      ]
    },
    {
      "cell_type": "code",
      "source": [
        "np.any([0,0,-1])"
      ],
      "metadata": {
        "colab": {
          "base_uri": "https://localhost:8080/"
        },
        "id": "XRBq0ONObSa1",
        "outputId": "c1f959ac-ba70-4e6c-b4a3-99d6141470fe"
      },
      "execution_count": null,
      "outputs": [
        {
          "output_type": "execute_result",
          "data": {
            "text/plain": [
              "True"
            ]
          },
          "metadata": {},
          "execution_count": 142
        }
      ]
    },
    {
      "cell_type": "code",
      "source": [
        "a=np.array([[1, 2, 3],\n",
        " [4, 6, 6],\n",
        " [7, 8, 9]])\n",
        "\n",
        "b=np.array([[1, 2, 3],\n",
        " [4, 5, 6],\n",
        " [7, 8, 9]])\n",
        "# a>b\n",
        "print(np.any(a>b))"
      ],
      "metadata": {
        "colab": {
          "base_uri": "https://localhost:8080/"
        },
        "id": "z0P4LtxjblBH",
        "outputId": "fa5f12dd-9177-4aac-a8b8-f7286b96d9c7"
      },
      "execution_count": null,
      "outputs": [
        {
          "output_type": "stream",
          "name": "stdout",
          "text": [
            "True\n"
          ]
        }
      ]
    },
    {
      "cell_type": "code",
      "source": [
        "a=np.array([[1, 2, 3],\n",
        " [4, 6, 6],\n",
        " [7, 8, 9]])\n",
        "print(a%2==0)\n",
        "np.any(a%2==0)"
      ],
      "metadata": {
        "colab": {
          "base_uri": "https://localhost:8080/"
        },
        "id": "guwMihwsb70S",
        "outputId": "129f9689-08a1-45f7-843b-cf15876f516a"
      },
      "execution_count": null,
      "outputs": [
        {
          "output_type": "stream",
          "name": "stdout",
          "text": [
            "[[False  True False]\n",
            " [ True  True  True]\n",
            " [False  True False]]\n"
          ]
        },
        {
          "output_type": "execute_result",
          "data": {
            "text/plain": [
              "True"
            ]
          },
          "metadata": {},
          "execution_count": 144
        }
      ]
    },
    {
      "cell_type": "code",
      "source": [
        "# np.all()"
      ],
      "metadata": {
        "id": "jgc98brhcIrw"
      },
      "execution_count": null,
      "outputs": []
    },
    {
      "cell_type": "code",
      "source": [
        ""
      ],
      "metadata": {
        "id": "4PqIX1UPchPC"
      },
      "execution_count": null,
      "outputs": []
    },
    {
      "cell_type": "code",
      "source": [
        "a=np.array([1,2,3,4])\n",
        "b=np.array([4,3,2,1])\n",
        "c=np.array([1,1,1,1])\n"
      ],
      "metadata": {
        "id": "NiN-9jOwchRc"
      },
      "execution_count": null,
      "outputs": []
    },
    {
      "cell_type": "code",
      "source": [
        "a<b"
      ],
      "metadata": {
        "colab": {
          "base_uri": "https://localhost:8080/"
        },
        "id": "rRvARTWZchTd",
        "outputId": "0436226b-bb80-471b-c95f-ec5a5c1a5c7c"
      },
      "execution_count": null,
      "outputs": [
        {
          "output_type": "execute_result",
          "data": {
            "text/plain": [
              "array([ True,  True, False, False])"
            ]
          },
          "metadata": {},
          "execution_count": 147
        }
      ]
    },
    {
      "cell_type": "code",
      "source": [
        "# np.all \n",
        "# returns True only if all the elements are non zero\n",
        "\n",
        "np.all(a<b)"
      ],
      "metadata": {
        "colab": {
          "base_uri": "https://localhost:8080/"
        },
        "id": "bxZls_-HchVv",
        "outputId": "7d6d8b50-ac14-42e5-a38c-14abef90d465"
      },
      "execution_count": null,
      "outputs": [
        {
          "output_type": "execute_result",
          "data": {
            "text/plain": [
              "False"
            ]
          },
          "metadata": {},
          "execution_count": 148
        }
      ]
    },
    {
      "cell_type": "code",
      "source": [
        "(a<b)|(a>c)\n"
      ],
      "metadata": {
        "colab": {
          "base_uri": "https://localhost:8080/"
        },
        "id": "0EsE_6t1dCYR",
        "outputId": "b96e6ca9-9a58-4d3b-9db5-501880e69f6e"
      },
      "execution_count": null,
      "outputs": [
        {
          "output_type": "execute_result",
          "data": {
            "text/plain": [
              "array([ True,  True,  True,  True])"
            ]
          },
          "metadata": {},
          "execution_count": 149
        }
      ]
    },
    {
      "cell_type": "code",
      "source": [
        "np.all((a<b)|(a>c))"
      ],
      "metadata": {
        "colab": {
          "base_uri": "https://localhost:8080/"
        },
        "id": "xVCZlVA3chYE",
        "outputId": "155c23e3-5a28-41be-82d6-b71b79832a7e"
      },
      "execution_count": null,
      "outputs": [
        {
          "output_type": "execute_result",
          "data": {
            "text/plain": [
              "True"
            ]
          },
          "metadata": {},
          "execution_count": 150
        }
      ]
    },
    {
      "cell_type": "code",
      "source": [
        "(a<b)&(a>c)"
      ],
      "metadata": {
        "colab": {
          "base_uri": "https://localhost:8080/"
        },
        "id": "TVWPQmiqdIYa",
        "outputId": "8b60f08e-e730-427d-9ec0-f740dee17868"
      },
      "execution_count": null,
      "outputs": [
        {
          "output_type": "execute_result",
          "data": {
            "text/plain": [
              "array([False,  True, False, False])"
            ]
          },
          "metadata": {},
          "execution_count": 151
        }
      ]
    },
    {
      "cell_type": "code",
      "source": [
        "m10=np.array([3,5,6,78,7,9,4])\n"
      ],
      "metadata": {
        "id": "VSAHZhjAdWBS"
      },
      "execution_count": null,
      "outputs": []
    },
    {
      "cell_type": "code",
      "source": [
        "# gives us sorted array\n",
        "np.sort(m10)"
      ],
      "metadata": {
        "colab": {
          "base_uri": "https://localhost:8080/"
        },
        "id": "YdrpU_eEdmcS",
        "outputId": "411cb951-9f3f-4175-e33a-2b543e4ee023"
      },
      "execution_count": null,
      "outputs": [
        {
          "output_type": "execute_result",
          "data": {
            "text/plain": [
              "array([ 3,  4,  5,  6,  7,  9, 78])"
            ]
          },
          "metadata": {},
          "execution_count": 153
        }
      ]
    },
    {
      "cell_type": "code",
      "source": [
        "# returns list of indexes of elements in the original list after sorting.\n",
        "np.argsort(m10)"
      ],
      "metadata": {
        "colab": {
          "base_uri": "https://localhost:8080/"
        },
        "id": "gjReJuGNdpFI",
        "outputId": "dcf32da6-6135-4414-9fc6-10a434f0042b"
      },
      "execution_count": null,
      "outputs": [
        {
          "output_type": "execute_result",
          "data": {
            "text/plain": [
              "array([0, 6, 1, 2, 4, 5, 3])"
            ]
          },
          "metadata": {},
          "execution_count": 154
        }
      ]
    },
    {
      "cell_type": "code",
      "source": [
        "m11=np.array([[10,4,3],[7,5,6],[9,8,7]])"
      ],
      "metadata": {
        "id": "GprjC-0Fd4vo"
      },
      "execution_count": null,
      "outputs": []
    },
    {
      "cell_type": "code",
      "source": [
        "m11"
      ],
      "metadata": {
        "colab": {
          "base_uri": "https://localhost:8080/"
        },
        "id": "k65XzAbMeuXw",
        "outputId": "ae4e5fd4-5f24-4f2e-ab45-354308556ae7"
      },
      "execution_count": null,
      "outputs": [
        {
          "output_type": "execute_result",
          "data": {
            "text/plain": [
              "array([[10,  4,  3],\n",
              "       [ 7,  5,  6],\n",
              "       [ 9,  8,  7]])"
            ]
          },
          "metadata": {},
          "execution_count": 156
        }
      ]
    },
    {
      "cell_type": "code",
      "source": [
        "# sorts the 2D array column wise\n",
        "np.sort(m11,axis=0)"
      ],
      "metadata": {
        "colab": {
          "base_uri": "https://localhost:8080/"
        },
        "id": "j32IOG1bev_9",
        "outputId": "b9c0cc38-2852-48b8-9dba-0b35d5ff293d"
      },
      "execution_count": null,
      "outputs": [
        {
          "output_type": "execute_result",
          "data": {
            "text/plain": [
              "array([[ 7,  4,  3],\n",
              "       [ 9,  5,  6],\n",
              "       [10,  8,  7]])"
            ]
          },
          "metadata": {},
          "execution_count": 157
        }
      ]
    },
    {
      "cell_type": "code",
      "source": [
        "# sorts the 2D array row wise\n",
        "np.sort(m11,axis=1)"
      ],
      "metadata": {
        "colab": {
          "base_uri": "https://localhost:8080/"
        },
        "id": "Ld_c9IGke_vO",
        "outputId": "972bd9b6-4a08-41a8-a827-d3fdc3f9d807"
      },
      "execution_count": null,
      "outputs": [
        {
          "output_type": "execute_result",
          "data": {
            "text/plain": [
              "array([[ 3,  4, 10],\n",
              "       [ 5,  6,  7],\n",
              "       [ 7,  8,  9]])"
            ]
          },
          "metadata": {},
          "execution_count": 158
        }
      ]
    },
    {
      "cell_type": "code",
      "source": [
        "np.sort(m11)"
      ],
      "metadata": {
        "colab": {
          "base_uri": "https://localhost:8080/"
        },
        "id": "dxXgpjmXfdts",
        "outputId": "bd2ae4af-ae2b-43d9-d607-17c2f082e137"
      },
      "execution_count": null,
      "outputs": [
        {
          "output_type": "execute_result",
          "data": {
            "text/plain": [
              "array([[ 3,  4, 10],\n",
              "       [ 5,  6,  7],\n",
              "       [ 7,  8,  9]])"
            ]
          },
          "metadata": {},
          "execution_count": 159
        }
      ]
    },
    {
      "cell_type": "code",
      "source": [
        "a = np.array([[23,4,43],\n",
        "              [12,89,3],\n",
        "              [69,420,0]])\n",
        "\n",
        "b = np.sort(a)"
      ],
      "metadata": {
        "id": "gEBUUXG-f8-Y"
      },
      "execution_count": null,
      "outputs": []
    },
    {
      "cell_type": "code",
      "source": [
        "b"
      ],
      "metadata": {
        "colab": {
          "base_uri": "https://localhost:8080/"
        },
        "id": "KetWYeeYgtZY",
        "outputId": "fecfb9ec-2f65-4811-d5b0-aee64332c276"
      },
      "execution_count": null,
      "outputs": [
        {
          "output_type": "execute_result",
          "data": {
            "text/plain": [
              "array([[  4,  23,  43],\n",
              "       [  3,  12,  89],\n",
              "       [  0,  69, 420]])"
            ]
          },
          "metadata": {},
          "execution_count": 161
        }
      ]
    },
    {
      "cell_type": "code",
      "source": [
        ""
      ],
      "metadata": {
        "id": "G7hMEHGsguAo"
      },
      "execution_count": null,
      "outputs": []
    },
    {
      "cell_type": "code",
      "source": [
        "a=np.array([[1, 2, 3],\n",
        " [4, 5, 6],\n",
        " [7, 8, 9]])\n",
        "\n",
        "b=np.array([[1, 2, 3],\n",
        " [4, 5, 6],\n",
        " [7, 8, 9]])\n",
        "print(a==b)\n",
        "print(np.all(a==b))\n"
      ],
      "metadata": {
        "colab": {
          "base_uri": "https://localhost:8080/"
        },
        "id": "wtDGvLaNiYIA",
        "outputId": "40dce48d-a88b-4a87-e9b5-9a0ce02b56e0"
      },
      "execution_count": null,
      "outputs": [
        {
          "output_type": "stream",
          "name": "stdout",
          "text": [
            "[[ True  True  True]\n",
            " [ True  True  True]\n",
            " [ True  True  True]]\n",
            "True\n"
          ]
        }
      ]
    },
    {
      "cell_type": "code",
      "source": [
        "!gdown 1kXqcJo4YzmwF1G2BPoA17CI49TZVHANF"
      ],
      "metadata": {
        "colab": {
          "base_uri": "https://localhost:8080/"
        },
        "id": "rb5eVj1GiYKc",
        "outputId": "15458edd-9fe5-4775-b588-2609ed5b00d9"
      },
      "execution_count": null,
      "outputs": [
        {
          "output_type": "stream",
          "name": "stdout",
          "text": [
            "Downloading...\n",
            "From: https://drive.google.com/uc?id=1kXqcJo4YzmwF1G2BPoA17CI49TZVHANF\n",
            "To: /content/fitness.txt\n",
            "\r  0% 0.00/3.14k [00:00<?, ?B/s]\r100% 3.14k/3.14k [00:00<00:00, 4.90MB/s]\n"
          ]
        }
      ]
    },
    {
      "cell_type": "code",
      "source": [
        "# Loading the data set\n",
        "data=np.loadtxt(\"/content/fitness.txt\",dtype='str')"
      ],
      "metadata": {
        "id": "1iPxx3YriYM4"
      },
      "execution_count": null,
      "outputs": []
    },
    {
      "cell_type": "code",
      "source": [
        "# glancing through the data\n",
        "data"
      ],
      "metadata": {
        "colab": {
          "base_uri": "https://localhost:8080/"
        },
        "id": "pE3cNGofiYPM",
        "outputId": "8334fc1c-be74-451a-81ff-88502f5b441e"
      },
      "execution_count": null,
      "outputs": [
        {
          "output_type": "execute_result",
          "data": {
            "text/plain": [
              "array([['06-10-2017', '5464', '200', '181', '5', '0', '66'],\n",
              "       ['07-10-2017', '6041', '100', '197', '8', '0', '66'],\n",
              "       ['08-10-2017', '25', '100', '0', '5', '0', '66'],\n",
              "       ['09-10-2017', '5461', '100', '174', '4', '0', '66'],\n",
              "       ['10-10-2017', '6915', '200', '223', '5', '500', '66'],\n",
              "       ['11-10-2017', '4545', '100', '149', '6', '0', '66'],\n",
              "       ['12-10-2017', '4340', '100', '140', '6', '0', '66'],\n",
              "       ['13-10-2017', '1230', '100', '38', '7', '0', '66'],\n",
              "       ['14-10-2017', '61', '100', '1', '5', '0', '66'],\n",
              "       ['15-10-2017', '1258', '100', '40', '6', '0', '65'],\n",
              "       ['16-10-2017', '3148', '100', '101', '8', '0', '65'],\n",
              "       ['17-10-2017', '4687', '100', '152', '5', '0', '65'],\n",
              "       ['18-10-2017', '4732', '300', '150', '6', '500', '65'],\n",
              "       ['19-10-2017', '3519', '100', '113', '7', '0', '65'],\n",
              "       ['20-10-2017', '1580', '100', '49', '5', '0', '65'],\n",
              "       ['21-10-2017', '2822', '100', '86', '6', '0', '65'],\n",
              "       ['22-10-2017', '181', '100', '6', '8', '0', '65'],\n",
              "       ['23-10-2017', '3158', '200', '99', '5', '0', '65'],\n",
              "       ['24-10-2017', '4383', '200', '143', '4', '0', '64'],\n",
              "       ['25-10-2017', '3881', '200', '125', '5', '0', '64'],\n",
              "       ['26-10-2017', '4037', '200', '129', '6', '0', '64'],\n",
              "       ['27-10-2017', '202', '200', '6', '8', '0', '64'],\n",
              "       ['28-10-2017', '292', '200', '9', '5', '0', '64'],\n",
              "       ['29-10-2017', '330', '300', '10', '6', '0', '64'],\n",
              "       ['30-10-2017', '2209', '200', '72', '5', '0', '64'],\n",
              "       ['31-10-2017', '4550', '300', '150', '8', '500', '64'],\n",
              "       ['01-11-2017', '4435', '300', '141', '5', '0', '64'],\n",
              "       ['02-11-2017', '4779', '300', '156', '4', '0', '64'],\n",
              "       ['03-11-2017', '1831', '300', '57', '5', '0', '64'],\n",
              "       ['04-11-2017', '2255', '300', '72', '4', '0', '64'],\n",
              "       ['05-11-2017', '539', '300', '17', '5', '500', '64'],\n",
              "       ['06-11-2017', '5464', '300', '181', '4', '0', '64'],\n",
              "       ['07-11-2017', '6041', '200', '197', '3', '0', '64'],\n",
              "       ['08-11-2017', '4068', '300', '131', '2', '0', '64'],\n",
              "       ['09-11-2017', '4683', '300', '154', '9', '0', '64'],\n",
              "       ['10-11-2017', '4033', '300', '137', '5', '0', '64'],\n",
              "       ['11-11-2017', '6314', '300', '193', '6', '500', '64'],\n",
              "       ['12-11-2017', '614', '300', '19', '4', '500', '64'],\n",
              "       ['13-11-2017', '3149', '300', '101', '5', '500', '64'],\n",
              "       ['14-11-2017', '4005', '300', '139', '8', '500', '64'],\n",
              "       ['15-11-2017', '4880', '300', '164', '4', '500', '64'],\n",
              "       ['16-11-2017', '4136', '300', '137', '5', '500', '64'],\n",
              "       ['17-11-2017', '705', '300', '22', '6', '500', '64'],\n",
              "       ['18-11-2017', '570', '200', '17', '5', '500', '64'],\n",
              "       ['19-11-2017', '269', '300', '9', '6', '500', '64'],\n",
              "       ['20-11-2017', '4275', '300', '145', '5', '0', '64'],\n",
              "       ['21-11-2017', '5999', '300', '192', '6', '0', '64'],\n",
              "       ['22-11-2017', '4421', '300', '146', '5', '0', '64'],\n",
              "       ['23-11-2017', '6930', '300', '234', '6', '0', '64'],\n",
              "       ['24-11-2017', '5195', '300', '167', '5', '0', '64'],\n",
              "       ['25-11-2017', '546', '300', '16', '6', '0', '64'],\n",
              "       ['26-11-2017', '493', '300', '17', '7', '500', '64'],\n",
              "       ['27-11-2017', '995', '300', '32', '6', '500', '64'],\n",
              "       ['28-11-2017', '1163', '200', '35', '7', '500', '64'],\n",
              "       ['29-11-2017', '6676', '100', '220', '6', '500', '64'],\n",
              "       ['30-11-2017', '3608', '300', '116', '5', '500', '64'],\n",
              "       ['01-12-2017', '774', '300', '23', '6', '500', '64'],\n",
              "       ['02-12-2017', '1421', '300', '44', '7', '500', '64'],\n",
              "       ['03-12-2017', '4064', '300', '131', '8', '500', '64'],\n",
              "       ['04-12-2017', '2725', '300', '86', '8', '500', '64'],\n",
              "       ['05-12-2017', '5934', '300', '194', '7', '500', '64'],\n",
              "       ['06-12-2017', '1867', '300', '60', '8', '500', '64'],\n",
              "       ['07-12-2017', '3721', '100', '121', '5', '500', '64'],\n",
              "       ['08-12-2017', '2374', '200', '76', '4', '0', '64'],\n",
              "       ['09-12-2017', '2909', '200', '93', '3', '500', '64'],\n",
              "       ['10-12-2017', '1648', '100', '53', '3', '500', '64'],\n",
              "       ['11-12-2017', '799', '100', '25', '4', '0', '64'],\n",
              "       ['12-12-2017', '7102', '200', '227', '5', '500', '64'],\n",
              "       ['13-12-2017', '3941', '200', '125', '5', '500', '64'],\n",
              "       ['14-12-2017', '7422', '300', '243', '5', '500', '64'],\n",
              "       ['15-12-2017', '437', '200', '14', '3', '500', '64'],\n",
              "       ['16-12-2017', '1231', '200', '39', '4', '500', '64'],\n",
              "       ['17-12-2017', '1696', '100', '55', '4', '0', '64'],\n",
              "       ['18-12-2017', '4921', '200', '158', '5', '500', '64'],\n",
              "       ['19-12-2017', '221', '100', '7', '5', '500', '64'],\n",
              "       ['20-12-2017', '6500', '200', '213', '5', '500', '64'],\n",
              "       ['21-12-2017', '3575', '200', '116', '5', '500', '64'],\n",
              "       ['22-12-2017', '4061', '100', '129', '5', '0', '64'],\n",
              "       ['23-12-2017', '651', '100', '21', '5', '0', '64'],\n",
              "       ['24-12-2017', '753', '100', '28', '4', '0', '64'],\n",
              "       ['25-12-2017', '518', '100', '16', '3', '0', '64'],\n",
              "       ['26-12-2017', '5537', '300', '180', '4', '500', '64'],\n",
              "       ['27-12-2017', '4108', '200', '138', '5', '500', '64'],\n",
              "       ['28-12-2017', '5376', '300', '176', '5', '500', '64'],\n",
              "       ['29-12-2017', '3066', '200', '99', '4', '500', '64'],\n",
              "       ['30-12-2017', '177', '100', '5', '5', '0', '64'],\n",
              "       ['31-12-2017', '36', '100', '1', '3', '0', '64'],\n",
              "       ['01-01-2018', '299', '100', '10', '3', '0', '64'],\n",
              "       ['02-01-2018', '1447', '200', '47', '3', '0', '64'],\n",
              "       ['03-01-2018', '2599', '200', '84', '2', '0', '64'],\n",
              "       ['04-01-2018', '702', '100', '23', '3', '0', '64'],\n",
              "       ['05-01-2018', '133', '100', '4', '2', '0', '64'],\n",
              "       ['06-01-2018', '153', '300', '0', '8', '0', '64'],\n",
              "       ['07-01-2018', '500', '200', '0', '5', '500', '64'],\n",
              "       ['08-01-2018', '2127', '200', '0', '5', '0', '64'],\n",
              "       ['09-01-2018', '2203', '300', '0', '5', '500', '64']], dtype='<U10')"
            ]
          },
          "metadata": {},
          "execution_count": 165
        }
      ]
    },
    {
      "cell_type": "code",
      "source": [
        "# printing out the first 5 rows\n",
        "data[:5]"
      ],
      "metadata": {
        "colab": {
          "base_uri": "https://localhost:8080/"
        },
        "id": "3Ku49pB4iYRR",
        "outputId": "9fb9eb72-cbb8-4f2e-9703-808334358ebd"
      },
      "execution_count": null,
      "outputs": [
        {
          "output_type": "execute_result",
          "data": {
            "text/plain": [
              "array([['06-10-2017', '5464', '200', '181', '5', '0', '66'],\n",
              "       ['07-10-2017', '6041', '100', '197', '8', '0', '66'],\n",
              "       ['08-10-2017', '25', '100', '0', '5', '0', '66'],\n",
              "       ['09-10-2017', '5461', '100', '174', '4', '0', '66'],\n",
              "       ['10-10-2017', '6915', '200', '223', '5', '500', '66']],\n",
              "      dtype='<U10')"
            ]
          },
          "metadata": {},
          "execution_count": 166
        }
      ]
    },
    {
      "cell_type": "code",
      "source": [
        "# date,step_count,mood,calories_burned,sleep_hours,activity_status,weight"
      ],
      "metadata": {
        "id": "lYpbCCoviYTo"
      },
      "execution_count": null,
      "outputs": []
    },
    {
      "cell_type": "code",
      "source": [
        "data[0]"
      ],
      "metadata": {
        "colab": {
          "base_uri": "https://localhost:8080/"
        },
        "id": "ntDIkryKiYVz",
        "outputId": "51c4c0be-ea5c-41fe-a629-d8884771f666"
      },
      "execution_count": null,
      "outputs": [
        {
          "output_type": "execute_result",
          "data": {
            "text/plain": [
              "array(['06-10-2017', '5464', '200', '181', '5', '0', '66'], dtype='<U10')"
            ]
          },
          "metadata": {},
          "execution_count": 168
        }
      ]
    },
    {
      "cell_type": "code",
      "source": [
        "# data"
      ],
      "metadata": {
        "id": "5bsdQgRKiYam"
      },
      "execution_count": null,
      "outputs": []
    },
    {
      "cell_type": "code",
      "source": [
        "# taking transpose of data to get one feature in one row.\n",
        "data=data.T"
      ],
      "metadata": {
        "id": "OkAdejdFiYdA"
      },
      "execution_count": null,
      "outputs": []
    },
    {
      "cell_type": "code",
      "source": [
        "data"
      ],
      "metadata": {
        "colab": {
          "base_uri": "https://localhost:8080/"
        },
        "id": "r25xCVMDmSEk",
        "outputId": "54d1bcf9-1bfe-4450-dccc-aea834ebbe09"
      },
      "execution_count": null,
      "outputs": [
        {
          "output_type": "execute_result",
          "data": {
            "text/plain": [
              "array([['06-10-2017', '07-10-2017', '08-10-2017', '09-10-2017',\n",
              "        '10-10-2017', '11-10-2017', '12-10-2017', '13-10-2017',\n",
              "        '14-10-2017', '15-10-2017', '16-10-2017', '17-10-2017',\n",
              "        '18-10-2017', '19-10-2017', '20-10-2017', '21-10-2017',\n",
              "        '22-10-2017', '23-10-2017', '24-10-2017', '25-10-2017',\n",
              "        '26-10-2017', '27-10-2017', '28-10-2017', '29-10-2017',\n",
              "        '30-10-2017', '31-10-2017', '01-11-2017', '02-11-2017',\n",
              "        '03-11-2017', '04-11-2017', '05-11-2017', '06-11-2017',\n",
              "        '07-11-2017', '08-11-2017', '09-11-2017', '10-11-2017',\n",
              "        '11-11-2017', '12-11-2017', '13-11-2017', '14-11-2017',\n",
              "        '15-11-2017', '16-11-2017', '17-11-2017', '18-11-2017',\n",
              "        '19-11-2017', '20-11-2017', '21-11-2017', '22-11-2017',\n",
              "        '23-11-2017', '24-11-2017', '25-11-2017', '26-11-2017',\n",
              "        '27-11-2017', '28-11-2017', '29-11-2017', '30-11-2017',\n",
              "        '01-12-2017', '02-12-2017', '03-12-2017', '04-12-2017',\n",
              "        '05-12-2017', '06-12-2017', '07-12-2017', '08-12-2017',\n",
              "        '09-12-2017', '10-12-2017', '11-12-2017', '12-12-2017',\n",
              "        '13-12-2017', '14-12-2017', '15-12-2017', '16-12-2017',\n",
              "        '17-12-2017', '18-12-2017', '19-12-2017', '20-12-2017',\n",
              "        '21-12-2017', '22-12-2017', '23-12-2017', '24-12-2017',\n",
              "        '25-12-2017', '26-12-2017', '27-12-2017', '28-12-2017',\n",
              "        '29-12-2017', '30-12-2017', '31-12-2017', '01-01-2018',\n",
              "        '02-01-2018', '03-01-2018', '04-01-2018', '05-01-2018',\n",
              "        '06-01-2018', '07-01-2018', '08-01-2018', '09-01-2018'],\n",
              "       ['5464', '6041', '25', '5461', '6915', '4545', '4340', '1230',\n",
              "        '61', '1258', '3148', '4687', '4732', '3519', '1580', '2822',\n",
              "        '181', '3158', '4383', '3881', '4037', '202', '292', '330',\n",
              "        '2209', '4550', '4435', '4779', '1831', '2255', '539', '5464',\n",
              "        '6041', '4068', '4683', '4033', '6314', '614', '3149', '4005',\n",
              "        '4880', '4136', '705', '570', '269', '4275', '5999', '4421',\n",
              "        '6930', '5195', '546', '493', '995', '1163', '6676', '3608',\n",
              "        '774', '1421', '4064', '2725', '5934', '1867', '3721', '2374',\n",
              "        '2909', '1648', '799', '7102', '3941', '7422', '437', '1231',\n",
              "        '1696', '4921', '221', '6500', '3575', '4061', '651', '753',\n",
              "        '518', '5537', '4108', '5376', '3066', '177', '36', '299',\n",
              "        '1447', '2599', '702', '133', '153', '500', '2127', '2203'],\n",
              "       ['200', '100', '100', '100', '200', '100', '100', '100', '100',\n",
              "        '100', '100', '100', '300', '100', '100', '100', '100', '200',\n",
              "        '200', '200', '200', '200', '200', '300', '200', '300', '300',\n",
              "        '300', '300', '300', '300', '300', '200', '300', '300', '300',\n",
              "        '300', '300', '300', '300', '300', '300', '300', '200', '300',\n",
              "        '300', '300', '300', '300', '300', '300', '300', '300', '200',\n",
              "        '100', '300', '300', '300', '300', '300', '300', '300', '100',\n",
              "        '200', '200', '100', '100', '200', '200', '300', '200', '200',\n",
              "        '100', '200', '100', '200', '200', '100', '100', '100', '100',\n",
              "        '300', '200', '300', '200', '100', '100', '100', '200', '200',\n",
              "        '100', '100', '300', '200', '200', '300'],\n",
              "       ['181', '197', '0', '174', '223', '149', '140', '38', '1', '40',\n",
              "        '101', '152', '150', '113', '49', '86', '6', '99', '143', '125',\n",
              "        '129', '6', '9', '10', '72', '150', '141', '156', '57', '72',\n",
              "        '17', '181', '197', '131', '154', '137', '193', '19', '101',\n",
              "        '139', '164', '137', '22', '17', '9', '145', '192', '146', '234',\n",
              "        '167', '16', '17', '32', '35', '220', '116', '23', '44', '131',\n",
              "        '86', '194', '60', '121', '76', '93', '53', '25', '227', '125',\n",
              "        '243', '14', '39', '55', '158', '7', '213', '116', '129', '21',\n",
              "        '28', '16', '180', '138', '176', '99', '5', '1', '10', '47',\n",
              "        '84', '23', '4', '0', '0', '0', '0'],\n",
              "       ['5', '8', '5', '4', '5', '6', '6', '7', '5', '6', '8', '5', '6',\n",
              "        '7', '5', '6', '8', '5', '4', '5', '6', '8', '5', '6', '5', '8',\n",
              "        '5', '4', '5', '4', '5', '4', '3', '2', '9', '5', '6', '4', '5',\n",
              "        '8', '4', '5', '6', '5', '6', '5', '6', '5', '6', '5', '6', '7',\n",
              "        '6', '7', '6', '5', '6', '7', '8', '8', '7', '8', '5', '4', '3',\n",
              "        '3', '4', '5', '5', '5', '3', '4', '4', '5', '5', '5', '5', '5',\n",
              "        '5', '4', '3', '4', '5', '5', '4', '5', '3', '3', '3', '2', '3',\n",
              "        '2', '8', '5', '5', '5'],\n",
              "       ['0', '0', '0', '0', '500', '0', '0', '0', '0', '0', '0', '0',\n",
              "        '500', '0', '0', '0', '0', '0', '0', '0', '0', '0', '0', '0',\n",
              "        '0', '500', '0', '0', '0', '0', '500', '0', '0', '0', '0', '0',\n",
              "        '500', '500', '500', '500', '500', '500', '500', '500', '500',\n",
              "        '0', '0', '0', '0', '0', '0', '500', '500', '500', '500', '500',\n",
              "        '500', '500', '500', '500', '500', '500', '500', '0', '500',\n",
              "        '500', '0', '500', '500', '500', '500', '500', '0', '500', '500',\n",
              "        '500', '500', '0', '0', '0', '0', '500', '500', '500', '500',\n",
              "        '0', '0', '0', '0', '0', '0', '0', '0', '500', '0', '500'],\n",
              "       ['66', '66', '66', '66', '66', '66', '66', '66', '66', '65', '65',\n",
              "        '65', '65', '65', '65', '65', '65', '65', '64', '64', '64', '64',\n",
              "        '64', '64', '64', '64', '64', '64', '64', '64', '64', '64', '64',\n",
              "        '64', '64', '64', '64', '64', '64', '64', '64', '64', '64', '64',\n",
              "        '64', '64', '64', '64', '64', '64', '64', '64', '64', '64', '64',\n",
              "        '64', '64', '64', '64', '64', '64', '64', '64', '64', '64', '64',\n",
              "        '64', '64', '64', '64', '64', '64', '64', '64', '64', '64', '64',\n",
              "        '64', '64', '64', '64', '64', '64', '64', '64', '64', '64', '64',\n",
              "        '64', '64', '64', '64', '64', '64', '64', '64']], dtype='<U10')"
            ]
          },
          "metadata": {},
          "execution_count": 171
        }
      ]
    },
    {
      "cell_type": "code",
      "source": [
        "data[0]"
      ],
      "metadata": {
        "colab": {
          "base_uri": "https://localhost:8080/"
        },
        "id": "BKhrevZRmTBf",
        "outputId": "5c36b11b-c022-4704-ffbb-5139bf19658f"
      },
      "execution_count": null,
      "outputs": [
        {
          "output_type": "execute_result",
          "data": {
            "text/plain": [
              "array(['06-10-2017', '07-10-2017', '08-10-2017', '09-10-2017',\n",
              "       '10-10-2017', '11-10-2017', '12-10-2017', '13-10-2017',\n",
              "       '14-10-2017', '15-10-2017', '16-10-2017', '17-10-2017',\n",
              "       '18-10-2017', '19-10-2017', '20-10-2017', '21-10-2017',\n",
              "       '22-10-2017', '23-10-2017', '24-10-2017', '25-10-2017',\n",
              "       '26-10-2017', '27-10-2017', '28-10-2017', '29-10-2017',\n",
              "       '30-10-2017', '31-10-2017', '01-11-2017', '02-11-2017',\n",
              "       '03-11-2017', '04-11-2017', '05-11-2017', '06-11-2017',\n",
              "       '07-11-2017', '08-11-2017', '09-11-2017', '10-11-2017',\n",
              "       '11-11-2017', '12-11-2017', '13-11-2017', '14-11-2017',\n",
              "       '15-11-2017', '16-11-2017', '17-11-2017', '18-11-2017',\n",
              "       '19-11-2017', '20-11-2017', '21-11-2017', '22-11-2017',\n",
              "       '23-11-2017', '24-11-2017', '25-11-2017', '26-11-2017',\n",
              "       '27-11-2017', '28-11-2017', '29-11-2017', '30-11-2017',\n",
              "       '01-12-2017', '02-12-2017', '03-12-2017', '04-12-2017',\n",
              "       '05-12-2017', '06-12-2017', '07-12-2017', '08-12-2017',\n",
              "       '09-12-2017', '10-12-2017', '11-12-2017', '12-12-2017',\n",
              "       '13-12-2017', '14-12-2017', '15-12-2017', '16-12-2017',\n",
              "       '17-12-2017', '18-12-2017', '19-12-2017', '20-12-2017',\n",
              "       '21-12-2017', '22-12-2017', '23-12-2017', '24-12-2017',\n",
              "       '25-12-2017', '26-12-2017', '27-12-2017', '28-12-2017',\n",
              "       '29-12-2017', '30-12-2017', '31-12-2017', '01-01-2018',\n",
              "       '02-01-2018', '03-01-2018', '04-01-2018', '05-01-2018',\n",
              "       '06-01-2018', '07-01-2018', '08-01-2018', '09-01-2018'],\n",
              "      dtype='<U10')"
            ]
          },
          "metadata": {},
          "execution_count": 172
        }
      ]
    },
    {
      "cell_type": "code",
      "source": [
        "# unpacking and assigning feature(column) names\n",
        "# date,step_count,mood,calories_burned,sleep_hours,activity_status,weight=data\n",
        "date=data[0]\n",
        "step_count=data[1]\n",
        "mood=data[2]\n",
        "calories_burned=data[3]\n",
        "sleep_hours=data[4]\n",
        "activity_status=data[5]\n",
        "weight=data[6]"
      ],
      "metadata": {
        "id": "CFUIXh0nmaM4"
      },
      "execution_count": null,
      "outputs": []
    },
    {
      "cell_type": "code",
      "source": [
        "\n",
        "step_count"
      ],
      "metadata": {
        "colab": {
          "base_uri": "https://localhost:8080/"
        },
        "id": "OmpbagLemlZR",
        "outputId": "87e8e4df-4d51-4386-d286-03bd951af0d1"
      },
      "execution_count": null,
      "outputs": [
        {
          "output_type": "execute_result",
          "data": {
            "text/plain": [
              "array(['5464', '6041', '25', '5461', '6915', '4545', '4340', '1230', '61',\n",
              "       '1258', '3148', '4687', '4732', '3519', '1580', '2822', '181',\n",
              "       '3158', '4383', '3881', '4037', '202', '292', '330', '2209',\n",
              "       '4550', '4435', '4779', '1831', '2255', '539', '5464', '6041',\n",
              "       '4068', '4683', '4033', '6314', '614', '3149', '4005', '4880',\n",
              "       '4136', '705', '570', '269', '4275', '5999', '4421', '6930',\n",
              "       '5195', '546', '493', '995', '1163', '6676', '3608', '774', '1421',\n",
              "       '4064', '2725', '5934', '1867', '3721', '2374', '2909', '1648',\n",
              "       '799', '7102', '3941', '7422', '437', '1231', '1696', '4921',\n",
              "       '221', '6500', '3575', '4061', '651', '753', '518', '5537', '4108',\n",
              "       '5376', '3066', '177', '36', '299', '1447', '2599', '702', '133',\n",
              "       '153', '500', '2127', '2203'], dtype='<U10')"
            ]
          },
          "metadata": {},
          "execution_count": 206
        }
      ]
    },
    {
      "cell_type": "code",
      "source": [
        "# data[0]"
      ],
      "metadata": {
        "id": "gQkAUu31mnIg"
      },
      "execution_count": null,
      "outputs": []
    },
    {
      "cell_type": "code",
      "source": [
        "#converting string dtype to int64 dtype\n",
        "step_count=np.array(step_count,dtype=\"int64\")\n",
        "step_count"
      ],
      "metadata": {
        "colab": {
          "base_uri": "https://localhost:8080/"
        },
        "id": "pjlJs6uvm0c9",
        "outputId": "a7c65940-6142-4ff2-d1de-d9cda35b2ca5"
      },
      "execution_count": null,
      "outputs": [
        {
          "output_type": "execute_result",
          "data": {
            "text/plain": [
              "array([5464, 6041,   25, 5461, 6915, 4545, 4340, 1230,   61, 1258, 3148,\n",
              "       4687, 4732, 3519, 1580, 2822,  181, 3158, 4383, 3881, 4037,  202,\n",
              "        292,  330, 2209, 4550, 4435, 4779, 1831, 2255,  539, 5464, 6041,\n",
              "       4068, 4683, 4033, 6314,  614, 3149, 4005, 4880, 4136,  705,  570,\n",
              "        269, 4275, 5999, 4421, 6930, 5195,  546,  493,  995, 1163, 6676,\n",
              "       3608,  774, 1421, 4064, 2725, 5934, 1867, 3721, 2374, 2909, 1648,\n",
              "        799, 7102, 3941, 7422,  437, 1231, 1696, 4921,  221, 6500, 3575,\n",
              "       4061,  651,  753,  518, 5537, 4108, 5376, 3066,  177,   36,  299,\n",
              "       1447, 2599,  702,  133,  153,  500, 2127, 2203])"
            ]
          },
          "metadata": {},
          "execution_count": 208
        }
      ]
    },
    {
      "cell_type": "code",
      "source": [
        "calories_burned=np.array(calories_burned,dtype=\"int64\")\n",
        "calories_burned\n"
      ],
      "metadata": {
        "colab": {
          "base_uri": "https://localhost:8080/"
        },
        "id": "RUWiTWb7nRJS",
        "outputId": "f637fa67-ee90-4415-d2c0-ab5656b31085"
      },
      "execution_count": null,
      "outputs": [
        {
          "output_type": "execute_result",
          "data": {
            "text/plain": [
              "array([181, 197,   0, 174, 223, 149, 140,  38,   1,  40, 101, 152, 150,\n",
              "       113,  49,  86,   6,  99, 143, 125, 129,   6,   9,  10,  72, 150,\n",
              "       141, 156,  57,  72,  17, 181, 197, 131, 154, 137, 193,  19, 101,\n",
              "       139, 164, 137,  22,  17,   9, 145, 192, 146, 234, 167,  16,  17,\n",
              "        32,  35, 220, 116,  23,  44, 131,  86, 194,  60, 121,  76,  93,\n",
              "        53,  25, 227, 125, 243,  14,  39,  55, 158,   7, 213, 116, 129,\n",
              "        21,  28,  16, 180, 138, 176,  99,   5,   1,  10,  47,  84,  23,\n",
              "         4,   0,   0,   0,   0])"
            ]
          },
          "metadata": {},
          "execution_count": 209
        }
      ]
    },
    {
      "cell_type": "code",
      "source": [
        ""
      ],
      "metadata": {
        "id": "wr1N6g0rnp4G"
      },
      "execution_count": null,
      "outputs": []
    },
    {
      "cell_type": "code",
      "source": [
        "sleep_hours=np.array(sleep_hours,dtype=\"int64\")\n",
        "sleep_hours"
      ],
      "metadata": {
        "colab": {
          "base_uri": "https://localhost:8080/"
        },
        "id": "Vr9G0T1Hnj6J",
        "outputId": "45b63ae4-a190-40e1-9b0b-574e34d0013c"
      },
      "execution_count": null,
      "outputs": [
        {
          "output_type": "execute_result",
          "data": {
            "text/plain": [
              "array([5, 8, 5, 4, 5, 6, 6, 7, 5, 6, 8, 5, 6, 7, 5, 6, 8, 5, 4, 5, 6, 8,\n",
              "       5, 6, 5, 8, 5, 4, 5, 4, 5, 4, 3, 2, 9, 5, 6, 4, 5, 8, 4, 5, 6, 5,\n",
              "       6, 5, 6, 5, 6, 5, 6, 7, 6, 7, 6, 5, 6, 7, 8, 8, 7, 8, 5, 4, 3, 3,\n",
              "       4, 5, 5, 5, 3, 4, 4, 5, 5, 5, 5, 5, 5, 4, 3, 4, 5, 5, 4, 5, 3, 3,\n",
              "       3, 2, 3, 2, 8, 5, 5, 5])"
            ]
          },
          "metadata": {},
          "execution_count": 210
        }
      ]
    },
    {
      "cell_type": "code",
      "source": [
        "weight=np.array(weight,dtype=\"int64\")\n",
        "weight"
      ],
      "metadata": {
        "colab": {
          "base_uri": "https://localhost:8080/"
        },
        "id": "1nr3qya0nrzt",
        "outputId": "56fc39c5-bb84-4565-a11b-71ddce5a7130"
      },
      "execution_count": null,
      "outputs": [
        {
          "output_type": "execute_result",
          "data": {
            "text/plain": [
              "array([66, 66, 66, 66, 66, 66, 66, 66, 66, 65, 65, 65, 65, 65, 65, 65, 65,\n",
              "       65, 64, 64, 64, 64, 64, 64, 64, 64, 64, 64, 64, 64, 64, 64, 64, 64,\n",
              "       64, 64, 64, 64, 64, 64, 64, 64, 64, 64, 64, 64, 64, 64, 64, 64, 64,\n",
              "       64, 64, 64, 64, 64, 64, 64, 64, 64, 64, 64, 64, 64, 64, 64, 64, 64,\n",
              "       64, 64, 64, 64, 64, 64, 64, 64, 64, 64, 64, 64, 64, 64, 64, 64, 64,\n",
              "       64, 64, 64, 64, 64, 64, 64, 64, 64, 64, 64])"
            ]
          },
          "metadata": {},
          "execution_count": 211
        }
      ]
    },
    {
      "cell_type": "code",
      "source": [
        "mood"
      ],
      "metadata": {
        "colab": {
          "base_uri": "https://localhost:8080/"
        },
        "id": "65pW4liTn5wv",
        "outputId": "0b4975f4-9933-464c-e445-35e82b446a35"
      },
      "execution_count": null,
      "outputs": [
        {
          "output_type": "execute_result",
          "data": {
            "text/plain": [
              "array(['200', '100', '100', '100', '200', '100', '100', '100', '100',\n",
              "       '100', '100', '100', '300', '100', '100', '100', '100', '200',\n",
              "       '200', '200', '200', '200', '200', '300', '200', '300', '300',\n",
              "       '300', '300', '300', '300', '300', '200', '300', '300', '300',\n",
              "       '300', '300', '300', '300', '300', '300', '300', '200', '300',\n",
              "       '300', '300', '300', '300', '300', '300', '300', '300', '200',\n",
              "       '100', '300', '300', '300', '300', '300', '300', '300', '100',\n",
              "       '200', '200', '100', '100', '200', '200', '300', '200', '200',\n",
              "       '100', '200', '100', '200', '200', '100', '100', '100', '100',\n",
              "       '300', '200', '300', '200', '100', '100', '100', '200', '200',\n",
              "       '100', '100', '300', '200', '200', '300'], dtype='<U10')"
            ]
          },
          "metadata": {},
          "execution_count": 212
        }
      ]
    },
    {
      "cell_type": "code",
      "source": [
        "# Using masking , we are converting string values into understable form\n",
        "mood[mood=='100']='sad'\n",
        "mood[mood=='200']='neutral'\n",
        "mood[mood=='300']='happy'"
      ],
      "metadata": {
        "id": "u0Pojp2ZoHX-"
      },
      "execution_count": null,
      "outputs": []
    },
    {
      "cell_type": "code",
      "source": [
        "\n",
        "mood\n"
      ],
      "metadata": {
        "colab": {
          "base_uri": "https://localhost:8080/"
        },
        "id": "9zh70uANodDd",
        "outputId": "e1b8ceb4-d020-47e7-cb51-54b37f753e3e"
      },
      "execution_count": null,
      "outputs": [
        {
          "output_type": "execute_result",
          "data": {
            "text/plain": [
              "array(['neutral', 'sad', 'sad', 'sad', 'neutral', 'sad', 'sad', 'sad',\n",
              "       'sad', 'sad', 'sad', 'sad', 'happy', 'sad', 'sad', 'sad', 'sad',\n",
              "       'neutral', 'neutral', 'neutral', 'neutral', 'neutral', 'neutral',\n",
              "       'happy', 'neutral', 'happy', 'happy', 'happy', 'happy', 'happy',\n",
              "       'happy', 'happy', 'neutral', 'happy', 'happy', 'happy', 'happy',\n",
              "       'happy', 'happy', 'happy', 'happy', 'happy', 'happy', 'neutral',\n",
              "       'happy', 'happy', 'happy', 'happy', 'happy', 'happy', 'happy',\n",
              "       'happy', 'happy', 'neutral', 'sad', 'happy', 'happy', 'happy',\n",
              "       'happy', 'happy', 'happy', 'happy', 'sad', 'neutral', 'neutral',\n",
              "       'sad', 'sad', 'neutral', 'neutral', 'happy', 'neutral', 'neutral',\n",
              "       'sad', 'neutral', 'sad', 'neutral', 'neutral', 'sad', 'sad', 'sad',\n",
              "       'sad', 'happy', 'neutral', 'happy', 'neutral', 'sad', 'sad', 'sad',\n",
              "       'neutral', 'neutral', 'sad', 'sad', 'happy', 'neutral', 'neutral',\n",
              "       'happy'], dtype='<U10')"
            ]
          },
          "metadata": {},
          "execution_count": 214
        }
      ]
    },
    {
      "cell_type": "code",
      "source": [
        "activity_status"
      ],
      "metadata": {
        "colab": {
          "base_uri": "https://localhost:8080/"
        },
        "id": "uDOYFcgPomjG",
        "outputId": "f92f47f2-c308-4d8c-87dc-261621bba859"
      },
      "execution_count": null,
      "outputs": [
        {
          "output_type": "execute_result",
          "data": {
            "text/plain": [
              "array(['0', '0', '0', '0', '500', '0', '0', '0', '0', '0', '0', '0',\n",
              "       '500', '0', '0', '0', '0', '0', '0', '0', '0', '0', '0', '0', '0',\n",
              "       '500', '0', '0', '0', '0', '500', '0', '0', '0', '0', '0', '500',\n",
              "       '500', '500', '500', '500', '500', '500', '500', '500', '0', '0',\n",
              "       '0', '0', '0', '0', '500', '500', '500', '500', '500', '500',\n",
              "       '500', '500', '500', '500', '500', '500', '0', '500', '500', '0',\n",
              "       '500', '500', '500', '500', '500', '0', '500', '500', '500', '500',\n",
              "       '0', '0', '0', '0', '500', '500', '500', '500', '0', '0', '0', '0',\n",
              "       '0', '0', '0', '0', '500', '0', '500'], dtype='<U10')"
            ]
          },
          "metadata": {},
          "execution_count": 215
        }
      ]
    },
    {
      "cell_type": "code",
      "source": [
        "\n",
        "activity_status[activity_status=='0']='Inactive'\n",
        "activity_status[activity_status=='500']='Active'\n",
        "activity_status"
      ],
      "metadata": {
        "colab": {
          "base_uri": "https://localhost:8080/"
        },
        "id": "o9kS3vrQq2zn",
        "outputId": "e430b9a6-7f9d-45a0-d1a5-e4993f63a82d"
      },
      "execution_count": null,
      "outputs": [
        {
          "output_type": "execute_result",
          "data": {
            "text/plain": [
              "array(['Inactive', 'Inactive', 'Inactive', 'Inactive', 'Active',\n",
              "       'Inactive', 'Inactive', 'Inactive', 'Inactive', 'Inactive',\n",
              "       'Inactive', 'Inactive', 'Active', 'Inactive', 'Inactive',\n",
              "       'Inactive', 'Inactive', 'Inactive', 'Inactive', 'Inactive',\n",
              "       'Inactive', 'Inactive', 'Inactive', 'Inactive', 'Inactive',\n",
              "       'Active', 'Inactive', 'Inactive', 'Inactive', 'Inactive', 'Active',\n",
              "       'Inactive', 'Inactive', 'Inactive', 'Inactive', 'Inactive',\n",
              "       'Active', 'Active', 'Active', 'Active', 'Active', 'Active',\n",
              "       'Active', 'Active', 'Active', 'Inactive', 'Inactive', 'Inactive',\n",
              "       'Inactive', 'Inactive', 'Inactive', 'Active', 'Active', 'Active',\n",
              "       'Active', 'Active', 'Active', 'Active', 'Active', 'Active',\n",
              "       'Active', 'Active', 'Active', 'Inactive', 'Active', 'Active',\n",
              "       'Inactive', 'Active', 'Active', 'Active', 'Active', 'Active',\n",
              "       'Inactive', 'Active', 'Active', 'Active', 'Active', 'Inactive',\n",
              "       'Inactive', 'Inactive', 'Inactive', 'Active', 'Active', 'Active',\n",
              "       'Active', 'Inactive', 'Inactive', 'Inactive', 'Inactive',\n",
              "       'Inactive', 'Inactive', 'Inactive', 'Inactive', 'Active',\n",
              "       'Inactive', 'Active'], dtype='<U10')"
            ]
          },
          "metadata": {},
          "execution_count": 216
        }
      ]
    },
    {
      "cell_type": "code",
      "source": [
        "# gives me unique values in numpy array \n",
        "# return_count gives me frequency of each unique value\n",
        "np.unique(activity_status,return_counts=True)"
      ],
      "metadata": {
        "colab": {
          "base_uri": "https://localhost:8080/"
        },
        "id": "8NRx8Qi-rA0Q",
        "outputId": "f139a7da-a3e3-4ada-ba9b-56ee639958f4"
      },
      "execution_count": null,
      "outputs": [
        {
          "output_type": "execute_result",
          "data": {
            "text/plain": [
              "(array(['Active', 'Inactive'], dtype='<U10'), array([42, 54]))"
            ]
          },
          "metadata": {},
          "execution_count": 217
        }
      ]
    },
    {
      "cell_type": "code",
      "source": [
        "np.unique(mood,return_counts=True)"
      ],
      "metadata": {
        "colab": {
          "base_uri": "https://localhost:8080/"
        },
        "id": "pxWRm8tQrhkg",
        "outputId": "5ce73072-681e-40f8-d1d1-7f331527bfa5"
      },
      "execution_count": null,
      "outputs": [
        {
          "output_type": "execute_result",
          "data": {
            "text/plain": [
              "(array(['happy', 'neutral', 'sad'], dtype='<U10'), array([40, 27, 29]))"
            ]
          },
          "metadata": {},
          "execution_count": 218
        }
      ]
    },
    {
      "cell_type": "code",
      "source": [
        "np.unique(sleep_hours,return_counts=True)"
      ],
      "metadata": {
        "colab": {
          "base_uri": "https://localhost:8080/"
        },
        "id": "WAx_H-a1ruhd",
        "outputId": "f328cdfe-77a9-4925-e04c-ef89c0315bd1"
      },
      "execution_count": null,
      "outputs": [
        {
          "output_type": "execute_result",
          "data": {
            "text/plain": [
              "(array([2, 3, 4, 5, 6, 7, 8, 9]), array([ 3,  9, 14, 37, 16,  6, 10,  1]))"
            ]
          },
          "metadata": {},
          "execution_count": 219
        }
      ]
    },
    {
      "cell_type": "code",
      "source": [
        "np.unique(mood)"
      ],
      "metadata": {
        "colab": {
          "base_uri": "https://localhost:8080/"
        },
        "id": "YD7sT_mysojK",
        "outputId": "f42ac1c6-8a68-4b83-def0-7edc801a4065"
      },
      "execution_count": null,
      "outputs": [
        {
          "output_type": "execute_result",
          "data": {
            "text/plain": [
              "array(['happy', 'neutral', 'sad'], dtype='<U10')"
            ]
          },
          "metadata": {},
          "execution_count": 220
        }
      ]
    },
    {
      "cell_type": "code",
      "source": [
        "# finding out average number of steps that person takes\n",
        "step_count.mean()"
      ],
      "metadata": {
        "colab": {
          "base_uri": "https://localhost:8080/"
        },
        "id": "Xal5hrkhs1q6",
        "outputId": "8257e097-1419-4d04-fe7c-b9109a3edced"
      },
      "execution_count": null,
      "outputs": [
        {
          "output_type": "execute_result",
          "data": {
            "text/plain": [
              "2935.9375"
            ]
          },
          "metadata": {},
          "execution_count": 221
        }
      ]
    },
    {
      "cell_type": "code",
      "source": [
        "step_count"
      ],
      "metadata": {
        "colab": {
          "base_uri": "https://localhost:8080/"
        },
        "id": "t9mcjS1EtHgM",
        "outputId": "f404c353-0b0b-4b64-9322-54540205fd09"
      },
      "execution_count": null,
      "outputs": [
        {
          "output_type": "execute_result",
          "data": {
            "text/plain": [
              "array([5464, 6041,   25, 5461, 6915, 4545, 4340, 1230,   61, 1258, 3148,\n",
              "       4687, 4732, 3519, 1580, 2822,  181, 3158, 4383, 3881, 4037,  202,\n",
              "        292,  330, 2209, 4550, 4435, 4779, 1831, 2255,  539, 5464, 6041,\n",
              "       4068, 4683, 4033, 6314,  614, 3149, 4005, 4880, 4136,  705,  570,\n",
              "        269, 4275, 5999, 4421, 6930, 5195,  546,  493,  995, 1163, 6676,\n",
              "       3608,  774, 1421, 4064, 2725, 5934, 1867, 3721, 2374, 2909, 1648,\n",
              "        799, 7102, 3941, 7422,  437, 1231, 1696, 4921,  221, 6500, 3575,\n",
              "       4061,  651,  753,  518, 5537, 4108, 5376, 3066,  177,   36,  299,\n",
              "       1447, 2599,  702,  133,  153,  500, 2127, 2203])"
            ]
          },
          "metadata": {},
          "execution_count": 222
        }
      ]
    },
    {
      "cell_type": "code",
      "source": [
        "step_count"
      ],
      "metadata": {
        "colab": {
          "base_uri": "https://localhost:8080/"
        },
        "id": "Xu4aQnE_tPTq",
        "outputId": "c68e1cfb-31fe-4e14-fca9-a27586264b39"
      },
      "execution_count": null,
      "outputs": [
        {
          "output_type": "execute_result",
          "data": {
            "text/plain": [
              "array([5464, 6041,   25, 5461, 6915, 4545, 4340, 1230,   61, 1258, 3148,\n",
              "       4687, 4732, 3519, 1580, 2822,  181, 3158, 4383, 3881, 4037,  202,\n",
              "        292,  330, 2209, 4550, 4435, 4779, 1831, 2255,  539, 5464, 6041,\n",
              "       4068, 4683, 4033, 6314,  614, 3149, 4005, 4880, 4136,  705,  570,\n",
              "        269, 4275, 5999, 4421, 6930, 5195,  546,  493,  995, 1163, 6676,\n",
              "       3608,  774, 1421, 4064, 2725, 5934, 1867, 3721, 2374, 2909, 1648,\n",
              "        799, 7102, 3941, 7422,  437, 1231, 1696, 4921,  221, 6500, 3575,\n",
              "       4061,  651,  753,  518, 5537, 4108, 5376, 3066,  177,   36,  299,\n",
              "       1447, 2599,  702,  133,  153,  500, 2127, 2203])"
            ]
          },
          "metadata": {},
          "execution_count": 223
        }
      ]
    },
    {
      "cell_type": "code",
      "source": [
        "np.mean(step_count)"
      ],
      "metadata": {
        "colab": {
          "base_uri": "https://localhost:8080/"
        },
        "id": "FVZqvMOhtU1p",
        "outputId": "ec533b93-557b-4ffe-cf9b-74eca2b3d3d3"
      },
      "execution_count": null,
      "outputs": [
        {
          "output_type": "execute_result",
          "data": {
            "text/plain": [
              "2935.9375"
            ]
          },
          "metadata": {},
          "execution_count": 224
        }
      ]
    },
    {
      "cell_type": "code",
      "source": [
        "# gives me max number of steps taken\n",
        "np.max(step_count)"
      ],
      "metadata": {
        "colab": {
          "base_uri": "https://localhost:8080/"
        },
        "id": "odn02UL7tWcp",
        "outputId": "76cacebc-2b73-48b4-8210-33f845b6b11c"
      },
      "execution_count": null,
      "outputs": [
        {
          "output_type": "execute_result",
          "data": {
            "text/plain": [
              "7422"
            ]
          },
          "metadata": {},
          "execution_count": 225
        }
      ]
    },
    {
      "cell_type": "code",
      "source": [
        "# return index of max value of step count\n",
        "np.argmax(step_count)"
      ],
      "metadata": {
        "colab": {
          "base_uri": "https://localhost:8080/"
        },
        "id": "P7TVmS6Ctcl6",
        "outputId": "0056f409-406c-4966-c484-9c48a9b0371e"
      },
      "execution_count": null,
      "outputs": [
        {
          "output_type": "execute_result",
          "data": {
            "text/plain": [
              "69"
            ]
          },
          "metadata": {},
          "execution_count": 226
        }
      ]
    },
    {
      "cell_type": "code",
      "source": [
        "# using masking we are able to find out the date on which that person took max no. of steps\n",
        "date[np.argmax(step_count)]"
      ],
      "metadata": {
        "colab": {
          "base_uri": "https://localhost:8080/",
          "height": 36
        },
        "id": "eQU69KLqtztM",
        "outputId": "5a129853-6d24-42a1-9051-20d8e3b25792"
      },
      "execution_count": null,
      "outputs": [
        {
          "output_type": "execute_result",
          "data": {
            "text/plain": [
              "'14-12-2017'"
            ],
            "application/vnd.google.colaboratory.intrinsic+json": {
              "type": "string"
            }
          },
          "metadata": {},
          "execution_count": 227
        }
      ]
    },
    {
      "cell_type": "code",
      "source": [
        "# using masking we are able to find out the calories burned for max steps taken\n",
        "calories_burned[np.argmax(step_count)]"
      ],
      "metadata": {
        "colab": {
          "base_uri": "https://localhost:8080/"
        },
        "id": "dAB08XWBt4sr",
        "outputId": "bffcf2cc-ded6-42ff-f3a5-1c8edb3aa653"
      },
      "execution_count": null,
      "outputs": [
        {
          "output_type": "execute_result",
          "data": {
            "text/plain": [
              "243"
            ]
          },
          "metadata": {},
          "execution_count": 228
        }
      ]
    },
    {
      "cell_type": "code",
      "source": [
        "# using masking we are able to find out the mood on that day on which he took max no. of steps\n",
        "mood[np.argmax(step_count)]"
      ],
      "metadata": {
        "colab": {
          "base_uri": "https://localhost:8080/",
          "height": 36
        },
        "id": "tK94VNe0uN89",
        "outputId": "221c72ef-0159-4ec0-be37-39216424be8b"
      },
      "execution_count": null,
      "outputs": [
        {
          "output_type": "execute_result",
          "data": {
            "text/plain": [
              "'happy'"
            ],
            "application/vnd.google.colaboratory.intrinsic+json": {
              "type": "string"
            }
          },
          "metadata": {},
          "execution_count": 229
        }
      ]
    },
    {
      "cell_type": "code",
      "source": [
        "calories_burned[np.argmin(step_count)]"
      ],
      "metadata": {
        "colab": {
          "base_uri": "https://localhost:8080/"
        },
        "id": "TYfYyN6PuWpb",
        "outputId": "ba30da64-6127-40f7-fbe3-f9f5e09b7bd8"
      },
      "execution_count": null,
      "outputs": [
        {
          "output_type": "execute_result",
          "data": {
            "text/plain": [
              "0"
            ]
          },
          "metadata": {},
          "execution_count": 230
        }
      ]
    },
    {
      "cell_type": "code",
      "source": [
        "mood[np.argmin(step_count)]"
      ],
      "metadata": {
        "colab": {
          "base_uri": "https://localhost:8080/",
          "height": 36
        },
        "id": "LaGmF73TucGs",
        "outputId": "e553b062-29f9-4d2f-8554-4566554ea0d2"
      },
      "execution_count": null,
      "outputs": [
        {
          "output_type": "execute_result",
          "data": {
            "text/plain": [
              "'sad'"
            ],
            "application/vnd.google.colaboratory.intrinsic+json": {
              "type": "string"
            }
          },
          "metadata": {},
          "execution_count": 231
        }
      ]
    },
    {
      "cell_type": "code",
      "source": [
        "step_count[np.argmin(step_count)]"
      ],
      "metadata": {
        "colab": {
          "base_uri": "https://localhost:8080/"
        },
        "id": "_QsYzBS2ugEz",
        "outputId": "05e4bb81-5889-4915-f792-cbdaed607d1f"
      },
      "execution_count": null,
      "outputs": [
        {
          "output_type": "execute_result",
          "data": {
            "text/plain": [
              "25"
            ]
          },
          "metadata": {},
          "execution_count": 232
        }
      ]
    },
    {
      "cell_type": "code",
      "source": [
        "# finding out average of steps that person takes on days when he sad\n",
        "np.mean(step_count[mood=='sad'])"
      ],
      "metadata": {
        "colab": {
          "base_uri": "https://localhost:8080/"
        },
        "id": "45oIFtMXuqJk",
        "outputId": "168ffb82-cfbb-40e1-8be1-ddaf37a9a482"
      },
      "execution_count": null,
      "outputs": [
        {
          "output_type": "execute_result",
          "data": {
            "text/plain": [
              "2103.0689655172414"
            ]
          },
          "metadata": {},
          "execution_count": 233
        }
      ]
    },
    {
      "cell_type": "code",
      "source": [
        "# finding out average of steps that person takes on days when he happy\n",
        "np.mean(step_count[mood=='happy'])"
      ],
      "metadata": {
        "colab": {
          "base_uri": "https://localhost:8080/"
        },
        "id": "rKPwhq7LvCCd",
        "outputId": "56ec539d-693c-4f61-c2d0-cc4988514c2d"
      },
      "execution_count": null,
      "outputs": [
        {
          "output_type": "execute_result",
          "data": {
            "text/plain": [
              "3392.725"
            ]
          },
          "metadata": {},
          "execution_count": 234
        }
      ]
    },
    {
      "cell_type": "code",
      "source": [
        "# finding out average of steps that person takes on days when he neutral\n",
        "np.mean(step_count[mood=='neutral'])"
      ],
      "metadata": {
        "colab": {
          "base_uri": "https://localhost:8080/"
        },
        "id": "jk3-fXiAvHjL",
        "outputId": "888e817e-f6a1-48ce-c0c3-a8a025a33903"
      },
      "execution_count": null,
      "outputs": [
        {
          "output_type": "execute_result",
          "data": {
            "text/plain": [
              "3153.777777777778"
            ]
          },
          "metadata": {},
          "execution_count": 235
        }
      ]
    },
    {
      "cell_type": "code",
      "source": [
        "# finding out the freq of that person's mood for all the days he walked for more than 4000 steps\n",
        "np.unique(mood[step_count>4000],return_counts=True)"
      ],
      "metadata": {
        "colab": {
          "base_uri": "https://localhost:8080/"
        },
        "id": "Jz-AtPxFvOlj",
        "outputId": "23d6f321-723d-4a3e-b672-5497ead49249"
      },
      "execution_count": null,
      "outputs": [
        {
          "output_type": "execute_result",
          "data": {
            "text/plain": [
              "(array(['happy', 'neutral', 'sad'], dtype='<U10'), array([22,  9,  7]))"
            ]
          },
          "metadata": {},
          "execution_count": 236
        }
      ]
    },
    {
      "cell_type": "code",
      "source": [
        "# finding out the freq of that person's mood for all the days he walked for less than 2000 steps\n",
        "np.unique(mood[step_count<2000],return_counts=True)"
      ],
      "metadata": {
        "colab": {
          "base_uri": "https://localhost:8080/"
        },
        "id": "RGCZe2Qpv_Z-",
        "outputId": "5ed815f0-c155-42f9-b85c-7c5a5bf54077"
      },
      "execution_count": null,
      "outputs": [
        {
          "output_type": "execute_result",
          "data": {
            "text/plain": [
              "(array(['happy', 'neutral', 'sad'], dtype='<U10'), array([13,  8, 18]))"
            ]
          },
          "metadata": {},
          "execution_count": 237
        }
      ]
    },
    {
      "cell_type": "code",
      "source": [
        "sleep_hours"
      ],
      "metadata": {
        "colab": {
          "base_uri": "https://localhost:8080/"
        },
        "id": "cHG1Ix1JwUHx",
        "outputId": "dec05d77-b5fa-4f22-fccf-ca27d340be51"
      },
      "execution_count": null,
      "outputs": [
        {
          "output_type": "execute_result",
          "data": {
            "text/plain": [
              "array([5, 8, 5, 4, 5, 6, 6, 7, 5, 6, 8, 5, 6, 7, 5, 6, 8, 5, 4, 5, 6, 8,\n",
              "       5, 6, 5, 8, 5, 4, 5, 4, 5, 4, 3, 2, 9, 5, 6, 4, 5, 8, 4, 5, 6, 5,\n",
              "       6, 5, 6, 5, 6, 5, 6, 7, 6, 7, 6, 5, 6, 7, 8, 8, 7, 8, 5, 4, 3, 3,\n",
              "       4, 5, 5, 5, 3, 4, 4, 5, 5, 5, 5, 5, 5, 4, 3, 4, 5, 5, 4, 5, 3, 3,\n",
              "       3, 2, 3, 2, 8, 5, 5, 5])"
            ]
          },
          "metadata": {},
          "execution_count": 238
        }
      ]
    },
    {
      "cell_type": "code",
      "source": [
        "# finding out freq of mood for the days where that person slept for more than 5 hours\n",
        "np.unique(mood[sleep_hours>5],return_counts=True)"
      ],
      "metadata": {
        "colab": {
          "base_uri": "https://localhost:8080/"
        },
        "id": "2QO65dK8w7lg",
        "outputId": "1aaea1d9-aa7b-41d4-b4f0-7eecf4c71a3c"
      },
      "execution_count": null,
      "outputs": [
        {
          "output_type": "execute_result",
          "data": {
            "text/plain": [
              "(array(['happy', 'neutral', 'sad'], dtype='<U10'), array([20,  3, 10]))"
            ]
          },
          "metadata": {},
          "execution_count": 239
        }
      ]
    },
    {
      "cell_type": "code",
      "source": [
        "mood[np.argmax(step_count)]"
      ],
      "metadata": {
        "colab": {
          "base_uri": "https://localhost:8080/",
          "height": 36
        },
        "id": "qKDrnhmTxEx_",
        "outputId": "e3ba5040-7dab-48cc-b007-69d255f4d1d5"
      },
      "execution_count": null,
      "outputs": [
        {
          "output_type": "execute_result",
          "data": {
            "text/plain": [
              "'happy'"
            ],
            "application/vnd.google.colaboratory.intrinsic+json": {
              "type": "string"
            }
          },
          "metadata": {},
          "execution_count": 240
        }
      ]
    },
    {
      "cell_type": "code",
      "source": [
        ""
      ],
      "metadata": {
        "id": "ER8KI6zcqMWP"
      },
      "execution_count": null,
      "outputs": []
    },
    {
      "cell_type": "markdown",
      "source": [
        "### Doubts"
      ],
      "metadata": {
        "id": "T0srlJ6tqMpE"
      }
    },
    {
      "cell_type": "code",
      "source": [
        "m1=np.array([[1,2,3],[4,5,6],[7,8,9]])\n",
        "print(m1.ndim)"
      ],
      "metadata": {
        "colab": {
          "base_uri": "https://localhost:8080/"
        },
        "id": "vgvZftVNyyrm",
        "outputId": "d388eb85-c6f9-4386-e519-9b564af4d815"
      },
      "execution_count": null,
      "outputs": [
        {
          "output_type": "stream",
          "name": "stdout",
          "text": [
            "2\n"
          ]
        }
      ]
    },
    {
      "cell_type": "code",
      "source": [
        "m1.shape"
      ],
      "metadata": {
        "colab": {
          "base_uri": "https://localhost:8080/"
        },
        "id": "ra60ZehazUZJ",
        "outputId": "b6270d4d-7b73-4533-e565-25295356bff0"
      },
      "execution_count": null,
      "outputs": [
        {
          "output_type": "execute_result",
          "data": {
            "text/plain": [
              "(3, 3)"
            ]
          },
          "metadata": {},
          "execution_count": 242
        }
      ]
    },
    {
      "cell_type": "code",
      "source": [
        "np.min(step_count)"
      ],
      "metadata": {
        "colab": {
          "base_uri": "https://localhost:8080/"
        },
        "id": "HFTiw0nYzYIW",
        "outputId": "45b2b7ec-ad59-407e-c804-8f0c0f02c510"
      },
      "execution_count": null,
      "outputs": [
        {
          "output_type": "execute_result",
          "data": {
            "text/plain": [
              "25"
            ]
          },
          "metadata": {},
          "execution_count": 243
        }
      ]
    },
    {
      "cell_type": "code",
      "source": [
        "x = np.ones((5,5))\n",
        "x[1:-1,1:-1] = 0\n",
        "x"
      ],
      "metadata": {
        "colab": {
          "base_uri": "https://localhost:8080/"
        },
        "id": "hMAbySpn0BOn",
        "outputId": "de317999-243d-4a0a-c555-611c0a4d7708"
      },
      "execution_count": null,
      "outputs": [
        {
          "output_type": "execute_result",
          "data": {
            "text/plain": [
              "array([[1., 1., 1., 1., 1.],\n",
              "       [1., 0., 0., 0., 1.],\n",
              "       [1., 0., 0., 0., 1.],\n",
              "       [1., 0., 0., 0., 1.],\n",
              "       [1., 1., 1., 1., 1.]])"
            ]
          },
          "metadata": {},
          "execution_count": 244
        }
      ]
    },
    {
      "cell_type": "code",
      "source": [
        "m11=np.arange(1,13).reshape((3,4))"
      ],
      "metadata": {
        "id": "9PEIhOpu0iCG"
      },
      "execution_count": null,
      "outputs": []
    },
    {
      "cell_type": "code",
      "source": [
        "m11"
      ],
      "metadata": {
        "colab": {
          "base_uri": "https://localhost:8080/"
        },
        "id": "b1fsiVtz1cPi",
        "outputId": "174ff8e8-072e-4933-942b-37f22f7b75d8"
      },
      "execution_count": null,
      "outputs": [
        {
          "output_type": "execute_result",
          "data": {
            "text/plain": [
              "array([[ 1,  2,  3,  4],\n",
              "       [ 5,  6,  7,  8],\n",
              "       [ 9, 10, 11, 12]])"
            ]
          },
          "metadata": {},
          "execution_count": 246
        }
      ]
    },
    {
      "cell_type": "code",
      "source": [
        ""
      ],
      "metadata": {
        "id": "O_JJDM6o1jR6"
      },
      "execution_count": null,
      "outputs": []
    },
    {
      "cell_type": "code",
      "source": [
        "a"
      ],
      "metadata": {
        "colab": {
          "base_uri": "https://localhost:8080/"
        },
        "id": "O3GAjkl01qP5",
        "outputId": "a1c34c33-8132-448d-cb83-9e2f2e3c42c4"
      },
      "execution_count": null,
      "outputs": [
        {
          "output_type": "execute_result",
          "data": {
            "text/plain": [
              "array([[ 23,   4,  43],\n",
              "       [ 12,  89,   3],\n",
              "       [ 69, 420,   0]])"
            ]
          },
          "metadata": {},
          "execution_count": 247
        }
      ]
    },
    {
      "cell_type": "code",
      "source": [
        "# a[::-1] vs a[0::-1] vs a[:0:-1s]"
      ],
      "metadata": {
        "id": "CxQ6gr7x1qiI"
      },
      "execution_count": null,
      "outputs": []
    },
    {
      "cell_type": "code",
      "source": [
        "a=np.arange(1,13)"
      ],
      "metadata": {
        "id": "Rt0LW1DA2N2Y"
      },
      "execution_count": null,
      "outputs": []
    },
    {
      "cell_type": "code",
      "source": [
        "a"
      ],
      "metadata": {
        "colab": {
          "base_uri": "https://localhost:8080/"
        },
        "id": "ZLV3DK3_2Vuf",
        "outputId": "4b9fec58-9f95-4739-a384-b61eaeabf5c5"
      },
      "execution_count": null,
      "outputs": [
        {
          "output_type": "execute_result",
          "data": {
            "text/plain": [
              "array([ 1,  2,  3,  4,  5,  6,  7,  8,  9, 10, 11, 12])"
            ]
          },
          "metadata": {},
          "execution_count": 250
        }
      ]
    },
    {
      "cell_type": "code",
      "source": [
        "a[::-1]"
      ],
      "metadata": {
        "colab": {
          "base_uri": "https://localhost:8080/"
        },
        "id": "41XDi6F12V7Y",
        "outputId": "a9589d8d-b3f4-463f-c127-d18cb8a6b1b5"
      },
      "execution_count": null,
      "outputs": [
        {
          "output_type": "execute_result",
          "data": {
            "text/plain": [
              "array([12, 11, 10,  9,  8,  7,  6,  5,  4,  3,  2,  1])"
            ]
          },
          "metadata": {},
          "execution_count": 251
        }
      ]
    },
    {
      "cell_type": "code",
      "source": [
        "a[0::-1]"
      ],
      "metadata": {
        "colab": {
          "base_uri": "https://localhost:8080/"
        },
        "id": "gVf_zrt42n91",
        "outputId": "cb1eaff0-9ab8-4cc5-ee01-952d496a24fe"
      },
      "execution_count": null,
      "outputs": [
        {
          "output_type": "execute_result",
          "data": {
            "text/plain": [
              "array([1])"
            ]
          },
          "metadata": {},
          "execution_count": 252
        }
      ]
    },
    {
      "cell_type": "code",
      "source": [
        "a[:0:-1]"
      ],
      "metadata": {
        "colab": {
          "base_uri": "https://localhost:8080/"
        },
        "id": "9yAVCrkJ2qQW",
        "outputId": "4603c7ce-9989-44be-c62a-aea40454ddbd"
      },
      "execution_count": null,
      "outputs": [
        {
          "output_type": "execute_result",
          "data": {
            "text/plain": [
              "array([12, 11, 10,  9,  8,  7,  6,  5,  4,  3,  2])"
            ]
          },
          "metadata": {},
          "execution_count": 253
        }
      ]
    },
    {
      "cell_type": "code",
      "source": [
        "a = np.array([[23,4,43],\n",
        "              [12,89,3],\n",
        "              [69,420,0]])\n"
      ],
      "metadata": {
        "id": "kS4XW0jq3MV3"
      },
      "execution_count": null,
      "outputs": []
    },
    {
      "cell_type": "code",
      "source": [
        "a[0::-1,:]"
      ],
      "metadata": {
        "colab": {
          "base_uri": "https://localhost:8080/"
        },
        "id": "k5Te7WLK3erC",
        "outputId": "d2ecedf8-1868-4649-8216-e94d4c6c32de"
      },
      "execution_count": null,
      "outputs": [
        {
          "output_type": "execute_result",
          "data": {
            "text/plain": [
              "array([[23,  4, 43]])"
            ]
          },
          "metadata": {},
          "execution_count": 255
        }
      ]
    },
    {
      "cell_type": "code",
      "source": [
        "a=np.arange(1,13)\n",
        "a\n"
      ],
      "metadata": {
        "colab": {
          "base_uri": "https://localhost:8080/"
        },
        "id": "rdmTbX9c3jFz",
        "outputId": "2421f7b2-1ba4-454d-9384-152e2ac9505b"
      },
      "execution_count": null,
      "outputs": [
        {
          "output_type": "execute_result",
          "data": {
            "text/plain": [
              "array([ 1,  2,  3,  4,  5,  6,  7,  8,  9, 10, 11, 12])"
            ]
          },
          "metadata": {},
          "execution_count": 256
        }
      ]
    },
    {
      "cell_type": "code",
      "source": [
        "a[0::-1]"
      ],
      "metadata": {
        "colab": {
          "base_uri": "https://localhost:8080/"
        },
        "id": "7KqYAT7H3qN7",
        "outputId": "15a2462f-9cd7-4074-f61f-0f8eee42fae0"
      },
      "execution_count": null,
      "outputs": [
        {
          "output_type": "execute_result",
          "data": {
            "text/plain": [
              "array([1])"
            ]
          },
          "metadata": {},
          "execution_count": 257
        }
      ]
    },
    {
      "cell_type": "code",
      "source": [
        "a[3::-1]"
      ],
      "metadata": {
        "colab": {
          "base_uri": "https://localhost:8080/"
        },
        "id": "vLY0dXpG3uFS",
        "outputId": "6c3ca35b-a529-4d63-fe5f-388036590b62"
      },
      "execution_count": null,
      "outputs": [
        {
          "output_type": "execute_result",
          "data": {
            "text/plain": [
              "array([4, 3, 2, 1])"
            ]
          },
          "metadata": {},
          "execution_count": 258
        }
      ]
    },
    {
      "cell_type": "code",
      "source": [
        "a[:0:-1]"
      ],
      "metadata": {
        "colab": {
          "base_uri": "https://localhost:8080/"
        },
        "id": "11HTDxv932IS",
        "outputId": "e0005790-92be-4438-f9bb-758754619b23"
      },
      "execution_count": null,
      "outputs": [
        {
          "output_type": "execute_result",
          "data": {
            "text/plain": [
              "array([12, 11, 10,  9,  8,  7,  6,  5,  4,  3,  2])"
            ]
          },
          "metadata": {},
          "execution_count": 259
        }
      ]
    },
    {
      "cell_type": "code",
      "source": [
        "a = np.array([[23,4,43],\n",
        "              [12,89,3],\n",
        "              [69,420,0]])"
      ],
      "metadata": {
        "id": "TIgNz79l4GqL"
      },
      "execution_count": null,
      "outputs": []
    },
    {
      "cell_type": "code",
      "source": [
        "a[::-1]"
      ],
      "metadata": {
        "colab": {
          "base_uri": "https://localhost:8080/"
        },
        "id": "uyWdlu0A4OK0",
        "outputId": "8c1691d3-188d-4883-d02d-34a1345a4954"
      },
      "execution_count": null,
      "outputs": [
        {
          "output_type": "execute_result",
          "data": {
            "text/plain": [
              "array([[ 69, 420,   0],\n",
              "       [ 12,  89,   3],\n",
              "       [ 23,   4,  43]])"
            ]
          },
          "metadata": {},
          "execution_count": 261
        }
      ]
    },
    {
      "cell_type": "code",
      "source": [
        ""
      ],
      "metadata": {
        "id": "T0GDrxVC4QY1"
      },
      "execution_count": null,
      "outputs": []
    },
    {
      "cell_type": "code",
      "source": [
        ""
      ],
      "metadata": {
        "id": "MBPiQNeT4qwS"
      },
      "execution_count": null,
      "outputs": []
    },
    {
      "cell_type": "code",
      "source": [
        ""
      ],
      "metadata": {
        "id": "p7CAYU7t5BkP"
      },
      "execution_count": null,
      "outputs": []
    }
  ]
}